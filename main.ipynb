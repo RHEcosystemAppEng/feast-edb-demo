{
 "cells": [
  {
   "cell_type": "markdown",
   "metadata": {},
   "source": [
    "# dataset\n",
    "Generate dataset for the recommendation system plroblem"
   ]
  },
  {
   "cell_type": "code",
   "execution_count": 1,
   "metadata": {},
   "outputs": [
    {
     "name": "stdout",
     "output_type": "stream",
     "text": [
      "Users sample:\n",
      "   user_id  age gender signup_date          preferences\n",
      "0        1   56      F  2023-09-28  Home,Books,Clothing\n",
      "1        2   36      M  2023-03-29          Electronics\n",
      "2        3   19      F  2023-10-21       Clothing,Books\n",
      "3        4   39      M  2023-12-11          Electronics\n",
      "4        5   45  Other  2023-09-28    Electronics,Books\n",
      "\n",
      "Items sample:\n",
      "   item_id  category  subcategory  ...  new_arrival  on_sale        arrival_date\n",
      "0        1    Sports  Team Sports  ...        False    False 2023-03-13 04:48:00\n",
      "1        2      Home      Kitchen  ...        False     True 2023-08-31 09:14:00\n",
      "2        3     Books      Science  ...        False    False 2023-01-02 12:40:00\n",
      "3        4  Clothing  Accessories  ...        False    False 2023-05-08 06:41:00\n",
      "4        5    Sports  Team Sports  ...        False    False 2023-05-27 08:28:00\n",
      "\n",
      "[5 rows x 10 columns]\n",
      "\n",
      "Interactions sample:\n",
      "   interaction_id  user_id  item_id  ... interaction_type rating  quantity\n",
      "0               1      382     1258  ...             view    NaN       NaN\n",
      "1               2      472     3771  ...         purchase    NaN       1.0\n",
      "2               3      669     1489  ...             view    NaN       NaN\n",
      "3               4      277     4743  ...             view    NaN       NaN\n",
      "4               5      365     2152  ...             view    NaN       NaN\n",
      "\n",
      "[5 rows x 7 columns]\n"
     ]
    }
   ],
   "source": [
    "!python3 dataset_gen.py"
   ]
  },
  {
   "cell_type": "markdown",
   "metadata": {},
   "source": [
    "# Setup Feature Store\n",
    "\n",
    "We run the `feast apply` command to register the data"
   ]
  },
  {
   "cell_type": "code",
   "execution_count": 72,
   "metadata": {},
   "outputs": [
    {
     "name": "stdout",
     "output_type": "stream",
     "text": [
      "/home/ikatav/miniconda3/envs/we/lib/python3.11/site-packages/feast/feature_view.py:48: DeprecationWarning: Entity value_type will be mandatory in the next release. Please specify a value_type for entity '__dummy'.\n",
      "  DUMMY_ENTITY = Entity(\n",
      "/home/ikatav/miniconda3/envs/we/lib/python3.11/site-packages/pydantic/_internal/_fields.py:192: UserWarning: Field name \"vector_enabled\" in \"SqliteOnlineStoreConfig\" shadows an attribute in parent \"VectorStoreConfig\"\n",
      "  warnings.warn(\n",
      "/home/ikatav/miniconda3/envs/we/lib/python3.11/site-packages/pydantic/_internal/_fields.py:192: UserWarning: Field name \"vector_len\" in \"SqliteOnlineStoreConfig\" shadows an attribute in parent \"VectorStoreConfig\"\n",
      "  warnings.warn(\n",
      "Traceback (most recent call last):\n",
      "  File \"/home/ikatav/miniconda3/envs/we/bin/feast\", line 8, in <module>\n",
      "    sys.exit(cli())\n",
      "             ^^^^^\n",
      "  File \"/home/ikatav/miniconda3/envs/we/lib/python3.11/site-packages/click/core.py\", line 1161, in __call__\n",
      "    return self.main(*args, **kwargs)\n",
      "           ^^^^^^^^^^^^^^^^^^^^^^^^^^\n",
      "  File \"/home/ikatav/miniconda3/envs/we/lib/python3.11/site-packages/click/core.py\", line 1082, in main\n",
      "    rv = self.invoke(ctx)\n",
      "         ^^^^^^^^^^^^^^^^\n",
      "  File \"/home/ikatav/miniconda3/envs/we/lib/python3.11/site-packages/click/core.py\", line 1697, in invoke\n",
      "    return _process_result(sub_ctx.command.invoke(sub_ctx))\n",
      "                           ^^^^^^^^^^^^^^^^^^^^^^^^^^^^^^^\n",
      "  File \"/home/ikatav/miniconda3/envs/we/lib/python3.11/site-packages/click/core.py\", line 1443, in invoke\n",
      "    return ctx.invoke(self.callback, **ctx.params)\n",
      "           ^^^^^^^^^^^^^^^^^^^^^^^^^^^^^^^^^^^^^^^\n",
      "  File \"/home/ikatav/miniconda3/envs/we/lib/python3.11/site-packages/click/core.py\", line 788, in invoke\n",
      "    return __callback(*args, **kwargs)\n",
      "           ^^^^^^^^^^^^^^^^^^^^^^^^^^^\n",
      "  File \"/home/ikatav/miniconda3/envs/we/lib/python3.11/site-packages/click/decorators.py\", line 33, in new_func\n",
      "    return f(get_current_context(), *args, **kwargs)\n",
      "           ^^^^^^^^^^^^^^^^^^^^^^^^^^^^^^^^^^^^^^^^^\n",
      "  File \"/home/ikatav/miniconda3/envs/we/lib/python3.11/site-packages/feast/cli.py\", line 756, in plan_command\n",
      "    plan(repo_config, repo, skip_source_validation)\n",
      "  File \"/home/ikatav/miniconda3/envs/we/lib/python3.11/site-packages/feast/repo_operations.py\", line 226, in plan\n",
      "    repo = _get_repo_contents(repo_path, repo_config.project)\n",
      "           ^^^^^^^^^^^^^^^^^^^^^^^^^^^^^^^^^^^^^^^^^^^^^^^^^^\n",
      "  File \"/home/ikatav/miniconda3/envs/we/lib/python3.11/site-packages/feast/repo_operations.py\", line 245, in _get_repo_contents\n",
      "    repo = parse_repo(repo_path)\n",
      "           ^^^^^^^^^^^^^^^^^^^^^\n",
      "  File \"/home/ikatav/miniconda3/envs/we/lib/python3.11/site-packages/feast/repo_operations.py\", line 136, in parse_repo\n",
      "    module = importlib.import_module(module_path)\n",
      "             ^^^^^^^^^^^^^^^^^^^^^^^^^^^^^^^^^^^^\n",
      "  File \"/home/ikatav/miniconda3/envs/we/lib/python3.11/importlib/__init__.py\", line 126, in import_module\n",
      "    return _bootstrap._gcd_import(name[level:], package, level)\n",
      "           ^^^^^^^^^^^^^^^^^^^^^^^^^^^^^^^^^^^^^^^^^^^^^^^^^^^^\n",
      "  File \"<frozen importlib._bootstrap>\", line 1204, in _gcd_import\n",
      "  File \"<frozen importlib._bootstrap>\", line 1176, in _find_and_load\n",
      "  File \"<frozen importlib._bootstrap>\", line 1147, in _find_and_load_unlocked\n",
      "  File \"<frozen importlib._bootstrap>\", line 690, in _load_unlocked\n",
      "  File \"<frozen importlib._bootstrap_external>\", line 940, in exec_module\n",
      "  File \"<frozen importlib._bootstrap>\", line 241, in _call_with_frames_removed\n",
      "  File \"/home/ikatav/Projects/rec-sys-feast-edb/feature_repo/data_sources.py\", line 24, in <module>\n",
      "    item_embed_push_source = PushSource(\n",
      "                             ^^^^^^^^^^^\n",
      "TypeError: PushSource.__init__() missing 1 required keyword-only argument: 'batch_source'\n"
     ]
    }
   ],
   "source": [
    "!cd feature_repo/ ; feast plan"
   ]
  },
  {
   "cell_type": "code",
   "execution_count": 73,
   "metadata": {},
   "outputs": [
    {
     "name": "stdout",
     "output_type": "stream",
     "text": [
      "/home/ikatav/miniconda3/envs/we/lib/python3.11/site-packages/feast/feature_view.py:48: DeprecationWarning: Entity value_type will be mandatory in the next release. Please specify a value_type for entity '__dummy'.\n",
      "  DUMMY_ENTITY = Entity(\n",
      "/home/ikatav/miniconda3/envs/we/lib/python3.11/site-packages/pydantic/_internal/_fields.py:192: UserWarning: Field name \"vector_enabled\" in \"SqliteOnlineStoreConfig\" shadows an attribute in parent \"VectorStoreConfig\"\n",
      "  warnings.warn(\n",
      "/home/ikatav/miniconda3/envs/we/lib/python3.11/site-packages/pydantic/_internal/_fields.py:192: UserWarning: Field name \"vector_len\" in \"SqliteOnlineStoreConfig\" shadows an attribute in parent \"VectorStoreConfig\"\n",
      "  warnings.warn(\n",
      "No project found in the repository. Using project name feast_edb_rec_sys defined in feature_store.yaml\n",
      "Applying changes for project feast_edb_rec_sys\n",
      "/home/ikatav/miniconda3/envs/we/lib/python3.11/site-packages/feast/entity.py:173: DeprecationWarning: Entity value_type will be mandatory in the next release. Please specify a value_type for entity '__dummy'.\n",
      "  entity = cls(\n",
      "/home/ikatav/miniconda3/envs/we/lib/python3.11/site-packages/feast/entity.py:173: DeprecationWarning: Entity value_type will be mandatory in the next release. Please specify a value_type for entity 'user'.\n",
      "  entity = cls(\n",
      "/home/ikatav/miniconda3/envs/we/lib/python3.11/site-packages/feast/entity.py:173: DeprecationWarning: Entity value_type will be mandatory in the next release. Please specify a value_type for entity 'item'.\n",
      "  entity = cls(\n",
      "Updated feature view \u001b[1m\u001b[33muser_embedding\u001b[0m\n",
      "\tentities: \u001b[1m\u001b[33m['__dummy']\u001b[0m -> \u001b[1m\u001b[92m['user']\u001b[0m\n",
      "\tfeatures: \u001b[1m\u001b[33m[name: \"user_id\"\n",
      "value_type: INT64\n",
      ", name: \"embedding\"\n",
      "value_type: FLOAT_LIST\n",
      "]\u001b[0m -> \u001b[1m\u001b[92m[name: \"embedding\"\n",
      "value_type: FLOAT_LIST\n",
      "]\u001b[0m\n",
      "\tentity_columns: \u001b[1m\u001b[33m[name: \"__dummy_id\"\n",
      "value_type: STRING\n",
      "]\u001b[0m -> \u001b[1m\u001b[92m[name: \"user_id\"\n",
      "value_type: INT64\n",
      "]\u001b[0m\n",
      "Updated feature view \u001b[1m\u001b[33mitem_embedding\u001b[0m\n",
      "\tentities: \u001b[1m\u001b[33m['__dummy']\u001b[0m -> \u001b[1m\u001b[92m['item']\u001b[0m\n",
      "\tfeatures: \u001b[1m\u001b[33m[name: \"item_id\"\n",
      "value_type: INT64\n",
      ", name: \"embedding\"\n",
      "value_type: FLOAT_LIST\n",
      "]\u001b[0m -> \u001b[1m\u001b[92m[name: \"embedding\"\n",
      "value_type: FLOAT_LIST\n",
      "]\u001b[0m\n",
      "\tentity_columns: \u001b[1m\u001b[33m[name: \"__dummy_id\"\n",
      "value_type: STRING\n",
      "]\u001b[0m -> \u001b[1m\u001b[92m[name: \"item_id\"\n",
      "value_type: INT64\n",
      "]\u001b[0m\n",
      "\n",
      "\u001b[1m\u001b[94mNo changes to infrastructure\n"
     ]
    }
   ],
   "source": [
    "!cd feature_repo/ ; feast apply "
   ]
  },
  {
   "cell_type": "code",
   "execution_count": 74,
   "metadata": {},
   "outputs": [],
   "source": [
    "from feast import FeatureStore\n",
    "from datetime import datetime, timedelta\n",
    "\n",
    "store = FeatureStore(repo_path=\"feature_repo/\")"
   ]
  },
  {
   "cell_type": "markdown",
   "metadata": {},
   "source": [
    "# Generating datasets using Feast"
   ]
  },
  {
   "cell_type": "code",
   "execution_count": 75,
   "metadata": {},
   "outputs": [
    {
     "name": "stdout",
     "output_type": "stream",
     "text": [
      "Using timestamp as the event timestamp. To specify a column explicitly, please name it event_timestamp.\n",
      "Using timestamp as the event timestamp. To specify a column explicitly, please name it event_timestamp.\n",
      "Using timestamp as the event timestamp. To specify a column explicitly, please name it event_timestamp.\n"
     ]
    }
   ],
   "source": [
    "from feast import FeatureService\n",
    "import pandas as pd\n",
    "from itertools import product\n",
    "# load feature services\n",
    "item_service = store.get_feature_service(\"item_service\")\n",
    "user_service = store.get_feature_service(\"user_service\")\n",
    "interaction_service = store.get_feature_service(\"interaction_service\")\n",
    "\n",
    "user_ids = list(range(1, 1_000))\n",
    "item_ids = list(range(1, 5_000))\n",
    "\n",
    "# select which entities to use\n",
    "item_entity_df = pd.DataFrame.from_dict(\n",
    "    {\n",
    "        'item_id': item_ids,\n",
    "        'timestamp': [datetime(2025, 1, 1)] * len(item_ids) \n",
    "    }\n",
    ")\n",
    "user_entity_df = pd.DataFrame.from_dict(\n",
    "    {\n",
    "        'user_id': user_ids,\n",
    "        'timestamp': [datetime(2025, 1, 1)] * len(user_ids) \n",
    "    }\n",
    ")\n",
    "item_user_interactions_df = pd.read_parquet('./feature_repo/data/interactions_item_user_ids.parquet')\n",
    "item_user_interactions_df['timestamp'] = datetime(2025, 1, 1)\n",
    "\n",
    "# retrive datasets for training\n",
    "item_df = store.get_historical_features(entity_df=item_entity_df, features=item_service).to_df()\n",
    "user_df = store.get_historical_features(entity_df=user_entity_df, features=user_service).to_df()\n",
    "interaction_df = store.get_historical_features(entity_df=item_user_interactions_df, features=interaction_service).to_df()"
   ]
  },
  {
   "cell_type": "markdown",
   "metadata": {},
   "source": [
    "# Training"
   ]
  },
  {
   "cell_type": "code",
   "execution_count": null,
   "metadata": {},
   "outputs": [],
   "source": [
    "from models import ItemEncoder, UserEncoder, TwoTowerModel, train_two_tower\n",
    "dim = 512\n",
    "\n",
    "item_encoder = ItemEncoder(dim)\n",
    "user_encoder = UserEncoder(dim)\n",
    "two_tower_model = TwoTowerModel(item_encoder=item_encoder, user_encoder=user_encoder)\n",
    "train_two_tower(two_tower_model, item_df, user_df, interaction_df)"
   ]
  },
  {
   "cell_type": "markdown",
   "metadata": {},
   "source": [
    "# Batch scoring\n",
    "Encode the items and users vector representation"
   ]
  },
  {
   "cell_type": "code",
   "execution_count": 8,
   "metadata": {},
   "outputs": [
    {
     "ename": "NameError",
     "evalue": "name 'item_encoder' is not defined",
     "output_type": "error",
     "traceback": [
      "\u001b[0;31m---------------------------------------------------------------------------\u001b[0m",
      "\u001b[0;31mNameError\u001b[0m                                 Traceback (most recent call last)",
      "Cell \u001b[0;32mIn[8], line 1\u001b[0m\n\u001b[0;32m----> 1\u001b[0m embeded_items \u001b[38;5;241m=\u001b[39m item_encoder(item_df)\n\u001b[1;32m      2\u001b[0m item_df[\u001b[38;5;124m'\u001b[39m\u001b[38;5;124membedding\u001b[39m\u001b[38;5;124m'\u001b[39m] \u001b[38;5;241m=\u001b[39m embeded_items\n\u001b[1;32m      3\u001b[0m embeded_users \u001b[38;5;241m=\u001b[39m user_encoder(user_df)\n",
      "\u001b[0;31mNameError\u001b[0m: name 'item_encoder' is not defined"
     ]
    }
   ],
   "source": [
    "embeded_items = item_encoder(item_df)\n",
    "item_df['embedding'] = embeded_items\n",
    "embeded_users = user_encoder(user_df)\n",
    "user_df['embedding'] = embeded_users\n",
    "\n",
    "# Push the new embedding to the offline and online store\n",
    "store.push('user_embed_push_source', item_df)\n",
    "store.push('item_embed_push_source', user_df)\n",
    "# store.push('user_embed_push_source', item_df[['item_id', 'embedding']])\n",
    "# store.push('item_embed_push_source', user_df[['user_id', 'embedding']])"
   ]
  },
  {
   "cell_type": "code",
   "execution_count": 76,
   "metadata": {},
   "outputs": [
    {
     "ename": "KeyError",
     "evalue": "'Field \"arrival_date\" does not exist in schema'",
     "output_type": "error",
     "traceback": [
      "\u001b[0;31m---------------------------------------------------------------------------\u001b[0m",
      "\u001b[0;31mKeyError\u001b[0m                                  Traceback (most recent call last)",
      "Cell \u001b[0;32mIn[76], line 10\u001b[0m\n\u001b[1;32m      7\u001b[0m user_df[\u001b[38;5;124m'\u001b[39m\u001b[38;5;124membedding\u001b[39m\u001b[38;5;124m'\u001b[39m] \u001b[38;5;241m=\u001b[39m [[\u001b[38;5;241m1.1\u001b[39m, \u001b[38;5;241m2.2\u001b[39m]] \u001b[38;5;241m*\u001b[39m \u001b[38;5;28mlen\u001b[39m(user_df)\n\u001b[1;32m      9\u001b[0m \u001b[38;5;66;03m# Push the new embedding to the offline and online store\u001b[39;00m\n\u001b[0;32m---> 10\u001b[0m store\u001b[38;5;241m.\u001b[39mpush(\u001b[38;5;124m'\u001b[39m\u001b[38;5;124mitem_embed_push_source\u001b[39m\u001b[38;5;124m'\u001b[39m, item_df, to\u001b[38;5;241m=\u001b[39mPushMode\u001b[38;5;241m.\u001b[39mONLINE_AND_OFFLINE)\n\u001b[1;32m     11\u001b[0m store\u001b[38;5;241m.\u001b[39mpush(\u001b[38;5;124m'\u001b[39m\u001b[38;5;124muser_embed_push_source\u001b[39m\u001b[38;5;124m'\u001b[39m, user_df, to\u001b[38;5;241m=\u001b[39mPushMode\u001b[38;5;241m.\u001b[39mONLINE_AND_OFFLINE)\n",
      "File \u001b[0;32m~/miniconda3/envs/we/lib/python3.11/site-packages/feast/feature_store.py:1479\u001b[0m, in \u001b[0;36mFeatureStore.push\u001b[0;34m(self, push_source_name, df, allow_registry_cache, to)\u001b[0m\n\u001b[1;32m   1475\u001b[0m \u001b[38;5;28;01mfor\u001b[39;00m fv \u001b[38;5;129;01min\u001b[39;00m \u001b[38;5;28mself\u001b[39m\u001b[38;5;241m.\u001b[39m_fvs_for_push_source_or_raise(\n\u001b[1;32m   1476\u001b[0m     push_source_name, allow_registry_cache\n\u001b[1;32m   1477\u001b[0m ):\n\u001b[1;32m   1478\u001b[0m     \u001b[38;5;28;01mif\u001b[39;00m to \u001b[38;5;241m==\u001b[39m PushMode\u001b[38;5;241m.\u001b[39mONLINE \u001b[38;5;129;01mor\u001b[39;00m to \u001b[38;5;241m==\u001b[39m PushMode\u001b[38;5;241m.\u001b[39mONLINE_AND_OFFLINE:\n\u001b[0;32m-> 1479\u001b[0m         \u001b[38;5;28mself\u001b[39m\u001b[38;5;241m.\u001b[39mwrite_to_online_store(\n\u001b[1;32m   1480\u001b[0m             fv\u001b[38;5;241m.\u001b[39mname, df, allow_registry_cache\u001b[38;5;241m=\u001b[39mallow_registry_cache\n\u001b[1;32m   1481\u001b[0m         )\n\u001b[1;32m   1482\u001b[0m     \u001b[38;5;28;01mif\u001b[39;00m to \u001b[38;5;241m==\u001b[39m PushMode\u001b[38;5;241m.\u001b[39mOFFLINE \u001b[38;5;129;01mor\u001b[39;00m to \u001b[38;5;241m==\u001b[39m PushMode\u001b[38;5;241m.\u001b[39mONLINE_AND_OFFLINE:\n\u001b[1;32m   1483\u001b[0m         \u001b[38;5;28mself\u001b[39m\u001b[38;5;241m.\u001b[39mwrite_to_offline_store(\n\u001b[1;32m   1484\u001b[0m             fv\u001b[38;5;241m.\u001b[39mname, df, allow_registry_cache\u001b[38;5;241m=\u001b[39mallow_registry_cache\n\u001b[1;32m   1485\u001b[0m         )\n",
      "File \u001b[0;32m~/miniconda3/envs/we/lib/python3.11/site-packages/feast/feature_store.py:1575\u001b[0m, in \u001b[0;36mFeatureStore.write_to_online_store\u001b[0;34m(self, feature_view_name, df, inputs, allow_registry_cache)\u001b[0m\n\u001b[1;32m   1568\u001b[0m feature_view, df \u001b[38;5;241m=\u001b[39m \u001b[38;5;28mself\u001b[39m\u001b[38;5;241m.\u001b[39m_get_feature_view_and_df_for_online_write(\n\u001b[1;32m   1569\u001b[0m     feature_view_name\u001b[38;5;241m=\u001b[39mfeature_view_name,\n\u001b[1;32m   1570\u001b[0m     df\u001b[38;5;241m=\u001b[39mdf,\n\u001b[1;32m   1571\u001b[0m     inputs\u001b[38;5;241m=\u001b[39minputs,\n\u001b[1;32m   1572\u001b[0m     allow_registry_cache\u001b[38;5;241m=\u001b[39mallow_registry_cache,\n\u001b[1;32m   1573\u001b[0m )\n\u001b[1;32m   1574\u001b[0m provider \u001b[38;5;241m=\u001b[39m \u001b[38;5;28mself\u001b[39m\u001b[38;5;241m.\u001b[39m_get_provider()\n\u001b[0;32m-> 1575\u001b[0m provider\u001b[38;5;241m.\u001b[39mingest_df(feature_view, df)\n",
      "File \u001b[0;32m~/miniconda3/envs/we/lib/python3.11/site-packages/feast/infra/passthrough_provider.py:386\u001b[0m, in \u001b[0;36mPassthroughProvider.ingest_df\u001b[0;34m(self, feature_view, df, field_mapping)\u001b[0m\n\u001b[1;32m    380\u001b[0m \u001b[38;5;28;01mdef\u001b[39;00m\u001b[38;5;250m \u001b[39m\u001b[38;5;21mingest_df\u001b[39m(\n\u001b[1;32m    381\u001b[0m     \u001b[38;5;28mself\u001b[39m,\n\u001b[1;32m    382\u001b[0m     feature_view: Union[BaseFeatureView, FeatureView, OnDemandFeatureView],\n\u001b[1;32m    383\u001b[0m     df: pd\u001b[38;5;241m.\u001b[39mDataFrame,\n\u001b[1;32m    384\u001b[0m     field_mapping: Optional[Dict] \u001b[38;5;241m=\u001b[39m \u001b[38;5;28;01mNone\u001b[39;00m,\n\u001b[1;32m    385\u001b[0m ):\n\u001b[0;32m--> 386\u001b[0m     rows_to_write \u001b[38;5;241m=\u001b[39m \u001b[38;5;28mself\u001b[39m\u001b[38;5;241m.\u001b[39m_prep_rows_to_write_for_ingestion(\n\u001b[1;32m    387\u001b[0m         feature_view\u001b[38;5;241m=\u001b[39mfeature_view,\n\u001b[1;32m    388\u001b[0m         df\u001b[38;5;241m=\u001b[39mdf,\n\u001b[1;32m    389\u001b[0m         field_mapping\u001b[38;5;241m=\u001b[39mfield_mapping,\n\u001b[1;32m    390\u001b[0m     )\n\u001b[1;32m    391\u001b[0m     \u001b[38;5;28mself\u001b[39m\u001b[38;5;241m.\u001b[39monline_write_batch(\n\u001b[1;32m    392\u001b[0m         \u001b[38;5;28mself\u001b[39m\u001b[38;5;241m.\u001b[39mrepo_config, feature_view, rows_to_write, progress\u001b[38;5;241m=\u001b[39m\u001b[38;5;28;01mNone\u001b[39;00m\n\u001b[1;32m    393\u001b[0m     )\n",
      "File \u001b[0;32m~/miniconda3/envs/we/lib/python3.11/site-packages/feast/infra/passthrough_provider.py:376\u001b[0m, in \u001b[0;36mPassthroughProvider._prep_rows_to_write_for_ingestion\u001b[0;34m(feature_view, df, field_mapping)\u001b[0m\n\u001b[1;32m    374\u001b[0m         \u001b[38;5;28;01mfor\u001b[39;00m entity \u001b[38;5;129;01min\u001b[39;00m feature_view\u001b[38;5;241m.\u001b[39mentity_columns:\n\u001b[1;32m    375\u001b[0m             join_keys[entity\u001b[38;5;241m.\u001b[39mname] \u001b[38;5;241m=\u001b[39m entity\u001b[38;5;241m.\u001b[39mdtype\u001b[38;5;241m.\u001b[39mto_value_type()\n\u001b[0;32m--> 376\u001b[0m     rows_to_write \u001b[38;5;241m=\u001b[39m _convert_arrow_to_proto(table, feature_view, join_keys)\n\u001b[1;32m    378\u001b[0m \u001b[38;5;28;01mreturn\u001b[39;00m rows_to_write\n",
      "File \u001b[0;32m~/miniconda3/envs/we/lib/python3.11/site-packages/feast/utils.py:262\u001b[0m, in \u001b[0;36m_convert_arrow_to_proto\u001b[0;34m(table, feature_view, join_keys)\u001b[0m\n\u001b[1;32m    260\u001b[0m     \u001b[38;5;28;01mreturn\u001b[39;00m _convert_arrow_odfv_to_proto(table, feature_view, join_keys)  \u001b[38;5;66;03m# type: ignore[arg-type]\u001b[39;00m\n\u001b[1;32m    261\u001b[0m \u001b[38;5;28;01melse\u001b[39;00m:\n\u001b[0;32m--> 262\u001b[0m     \u001b[38;5;28;01mreturn\u001b[39;00m _convert_arrow_fv_to_proto(table, feature_view, join_keys)\n",
      "File \u001b[0;32m~/miniconda3/envs/we/lib/python3.11/site-packages/feast/utils.py:304\u001b[0m, in \u001b[0;36m_convert_arrow_fv_to_proto\u001b[0;34m(table, feature_view, join_keys)\u001b[0m\n\u001b[1;32m    298\u001b[0m features \u001b[38;5;241m=\u001b[39m [\u001b[38;5;28mdict\u001b[39m(\u001b[38;5;28mzip\u001b[39m(feature_dict, \u001b[38;5;28mvars\u001b[39m)) \u001b[38;5;28;01mfor\u001b[39;00m \u001b[38;5;28mvars\u001b[39m \u001b[38;5;129;01min\u001b[39;00m \u001b[38;5;28mzip\u001b[39m(\u001b[38;5;241m*\u001b[39mfeature_dict\u001b[38;5;241m.\u001b[39mvalues())]\n\u001b[1;32m    300\u001b[0m \u001b[38;5;66;03m# Convert event_timestamps\u001b[39;00m\n\u001b[1;32m    301\u001b[0m event_timestamps \u001b[38;5;241m=\u001b[39m [\n\u001b[1;32m    302\u001b[0m     _coerce_datetime(val)\n\u001b[1;32m    303\u001b[0m     \u001b[38;5;28;01mfor\u001b[39;00m val \u001b[38;5;129;01min\u001b[39;00m pd\u001b[38;5;241m.\u001b[39mto_datetime(\n\u001b[0;32m--> 304\u001b[0m         table\u001b[38;5;241m.\u001b[39mcolumn(feature_view\u001b[38;5;241m.\u001b[39mbatch_source\u001b[38;5;241m.\u001b[39mtimestamp_field)\u001b[38;5;241m.\u001b[39mto_numpy(\n\u001b[1;32m    305\u001b[0m             zero_copy_only\u001b[38;5;241m=\u001b[39m\u001b[38;5;28;01mFalse\u001b[39;00m\n\u001b[1;32m    306\u001b[0m         )\n\u001b[1;32m    307\u001b[0m     )\n\u001b[1;32m    308\u001b[0m ]\n\u001b[1;32m    310\u001b[0m \u001b[38;5;66;03m# Convert created_timestamps if they exist\u001b[39;00m\n\u001b[1;32m    311\u001b[0m \u001b[38;5;28;01mif\u001b[39;00m feature_view\u001b[38;5;241m.\u001b[39mbatch_source\u001b[38;5;241m.\u001b[39mcreated_timestamp_column:\n",
      "File \u001b[0;32m~/miniconda3/envs/we/lib/python3.11/site-packages/pyarrow/table.pxi:1779\u001b[0m, in \u001b[0;36mpyarrow.lib._Tabular.column\u001b[0;34m()\u001b[0m\n",
      "File \u001b[0;32m~/miniconda3/envs/we/lib/python3.11/site-packages/pyarrow/table.pxi:1715\u001b[0m, in \u001b[0;36mpyarrow.lib._Tabular._ensure_integer_index\u001b[0;34m()\u001b[0m\n",
      "\u001b[0;31mKeyError\u001b[0m: 'Field \"arrival_date\" does not exist in schema'"
     ]
    }
   ],
   "source": [
    "from feast.data_source import PushMode\n",
    "import numpy as np\n",
    "# embeded_items = item_encoder(item_df)\n",
    "# embeded_users = user_encoder(user_df)\n",
    "item_df['embedding'] = [[1.1, 2.2]] * len(item_df)\n",
    "item_df['timestamp'] = datetime.now()\n",
    "user_df['embedding'] = [[1.1, 2.2]] * len(user_df)\n",
    "\n",
    "# Push the new embedding to the offline and online store\n",
    "store.push('item_embed_push_source', item_df, to=PushMode.ONLINE_AND_OFFLINE)\n",
    "store.push('user_embed_push_source', user_df, to=PushMode.ONLINE_AND_OFFLINE)\n",
    "# store.push('user_embed_push_source', item_df[['item_id', 'embedding']])\n",
    "# store.push('item_embed_push_source', user_df[['user_id', 'embedding']])"
   ]
  },
  {
   "cell_type": "code",
   "execution_count": 66,
   "metadata": {},
   "outputs": [
    {
     "data": {
      "text/html": [
       "<div>\n",
       "<style scoped>\n",
       "    .dataframe tbody tr th:only-of-type {\n",
       "        vertical-align: middle;\n",
       "    }\n",
       "\n",
       "    .dataframe tbody tr th {\n",
       "        vertical-align: top;\n",
       "    }\n",
       "\n",
       "    .dataframe thead th {\n",
       "        text-align: right;\n",
       "    }\n",
       "</style>\n",
       "<table border=\"1\" class=\"dataframe\">\n",
       "  <thead>\n",
       "    <tr style=\"text-align: right;\">\n",
       "      <th></th>\n",
       "      <th>item_id</th>\n",
       "      <th>timestamp</th>\n",
       "      <th>category</th>\n",
       "      <th>subcategory</th>\n",
       "      <th>price</th>\n",
       "      <th>avg_rating</th>\n",
       "      <th>num_ratings</th>\n",
       "      <th>popular</th>\n",
       "      <th>new_arrival</th>\n",
       "      <th>on_sale</th>\n",
       "      <th>embedding</th>\n",
       "    </tr>\n",
       "  </thead>\n",
       "  <tbody>\n",
       "    <tr>\n",
       "      <th>0</th>\n",
       "      <td>744</td>\n",
       "      <td>2025-01-01 00:00:00+00:00</td>\n",
       "      <td>Electronics</td>\n",
       "      <td>Laptops</td>\n",
       "      <td>495.84</td>\n",
       "      <td>4.9</td>\n",
       "      <td>72</td>\n",
       "      <td>False</td>\n",
       "      <td>False</td>\n",
       "      <td>False</td>\n",
       "      <td>[1.1, 2.2]</td>\n",
       "    </tr>\n",
       "    <tr>\n",
       "      <th>1</th>\n",
       "      <td>4636</td>\n",
       "      <td>2025-01-01 00:00:00+00:00</td>\n",
       "      <td>Electronics</td>\n",
       "      <td>Audio</td>\n",
       "      <td>257.67</td>\n",
       "      <td>2.1</td>\n",
       "      <td>580</td>\n",
       "      <td>True</td>\n",
       "      <td>False</td>\n",
       "      <td>False</td>\n",
       "      <td>[1.1, 2.2]</td>\n",
       "    </tr>\n",
       "    <tr>\n",
       "      <th>2</th>\n",
       "      <td>3553</td>\n",
       "      <td>2025-01-01 00:00:00+00:00</td>\n",
       "      <td>Home</td>\n",
       "      <td>Kitchen</td>\n",
       "      <td>11.10</td>\n",
       "      <td>4.6</td>\n",
       "      <td>653</td>\n",
       "      <td>True</td>\n",
       "      <td>False</td>\n",
       "      <td>False</td>\n",
       "      <td>[1.1, 2.2]</td>\n",
       "    </tr>\n",
       "    <tr>\n",
       "      <th>3</th>\n",
       "      <td>4752</td>\n",
       "      <td>2025-01-01 00:00:00+00:00</td>\n",
       "      <td>Clothing</td>\n",
       "      <td>Shoes</td>\n",
       "      <td>262.53</td>\n",
       "      <td>2.9</td>\n",
       "      <td>945</td>\n",
       "      <td>False</td>\n",
       "      <td>False</td>\n",
       "      <td>False</td>\n",
       "      <td>[1.1, 2.2]</td>\n",
       "    </tr>\n",
       "    <tr>\n",
       "      <th>4</th>\n",
       "      <td>4682</td>\n",
       "      <td>2025-01-01 00:00:00+00:00</td>\n",
       "      <td>Books</td>\n",
       "      <td>Fiction</td>\n",
       "      <td>352.68</td>\n",
       "      <td>3.6</td>\n",
       "      <td>228</td>\n",
       "      <td>False</td>\n",
       "      <td>False</td>\n",
       "      <td>False</td>\n",
       "      <td>[1.1, 2.2]</td>\n",
       "    </tr>\n",
       "    <tr>\n",
       "      <th>...</th>\n",
       "      <td>...</td>\n",
       "      <td>...</td>\n",
       "      <td>...</td>\n",
       "      <td>...</td>\n",
       "      <td>...</td>\n",
       "      <td>...</td>\n",
       "      <td>...</td>\n",
       "      <td>...</td>\n",
       "      <td>...</td>\n",
       "      <td>...</td>\n",
       "      <td>...</td>\n",
       "    </tr>\n",
       "    <tr>\n",
       "      <th>4994</th>\n",
       "      <td>3980</td>\n",
       "      <td>2025-01-01 00:00:00+00:00</td>\n",
       "      <td>Home</td>\n",
       "      <td>Kitchen</td>\n",
       "      <td>138.48</td>\n",
       "      <td>3.7</td>\n",
       "      <td>14</td>\n",
       "      <td>False</td>\n",
       "      <td>False</td>\n",
       "      <td>True</td>\n",
       "      <td>[1.1, 2.2]</td>\n",
       "    </tr>\n",
       "    <tr>\n",
       "      <th>4995</th>\n",
       "      <td>957</td>\n",
       "      <td>2025-01-01 00:00:00+00:00</td>\n",
       "      <td>Sports</td>\n",
       "      <td>Equipment</td>\n",
       "      <td>143.59</td>\n",
       "      <td>1.1</td>\n",
       "      <td>976</td>\n",
       "      <td>False</td>\n",
       "      <td>False</td>\n",
       "      <td>True</td>\n",
       "      <td>[1.1, 2.2]</td>\n",
       "    </tr>\n",
       "    <tr>\n",
       "      <th>4996</th>\n",
       "      <td>3939</td>\n",
       "      <td>2025-01-01 00:00:00+00:00</td>\n",
       "      <td>Books</td>\n",
       "      <td>Fiction</td>\n",
       "      <td>135.99</td>\n",
       "      <td>3.0</td>\n",
       "      <td>545</td>\n",
       "      <td>False</td>\n",
       "      <td>False</td>\n",
       "      <td>True</td>\n",
       "      <td>[1.1, 2.2]</td>\n",
       "    </tr>\n",
       "    <tr>\n",
       "      <th>4997</th>\n",
       "      <td>2689</td>\n",
       "      <td>2025-01-01 00:00:00+00:00</td>\n",
       "      <td>Home</td>\n",
       "      <td>Decor</td>\n",
       "      <td>162.31</td>\n",
       "      <td>4.3</td>\n",
       "      <td>580</td>\n",
       "      <td>False</td>\n",
       "      <td>False</td>\n",
       "      <td>False</td>\n",
       "      <td>[1.1, 2.2]</td>\n",
       "    </tr>\n",
       "    <tr>\n",
       "      <th>4998</th>\n",
       "      <td>4449</td>\n",
       "      <td>2025-01-01 00:00:00+00:00</td>\n",
       "      <td>Home</td>\n",
       "      <td>Bedding</td>\n",
       "      <td>314.89</td>\n",
       "      <td>3.3</td>\n",
       "      <td>870</td>\n",
       "      <td>False</td>\n",
       "      <td>False</td>\n",
       "      <td>False</td>\n",
       "      <td>[1.1, 2.2]</td>\n",
       "    </tr>\n",
       "  </tbody>\n",
       "</table>\n",
       "<p>4999 rows × 11 columns</p>\n",
       "</div>"
      ],
      "text/plain": [
       "      item_id                 timestamp     category subcategory   price  \\\n",
       "0         744 2025-01-01 00:00:00+00:00  Electronics     Laptops  495.84   \n",
       "1        4636 2025-01-01 00:00:00+00:00  Electronics       Audio  257.67   \n",
       "2        3553 2025-01-01 00:00:00+00:00         Home     Kitchen   11.10   \n",
       "3        4752 2025-01-01 00:00:00+00:00     Clothing       Shoes  262.53   \n",
       "4        4682 2025-01-01 00:00:00+00:00        Books     Fiction  352.68   \n",
       "...       ...                       ...          ...         ...     ...   \n",
       "4994     3980 2025-01-01 00:00:00+00:00         Home     Kitchen  138.48   \n",
       "4995      957 2025-01-01 00:00:00+00:00       Sports   Equipment  143.59   \n",
       "4996     3939 2025-01-01 00:00:00+00:00        Books     Fiction  135.99   \n",
       "4997     2689 2025-01-01 00:00:00+00:00         Home       Decor  162.31   \n",
       "4998     4449 2025-01-01 00:00:00+00:00         Home     Bedding  314.89   \n",
       "\n",
       "      avg_rating  num_ratings  popular  new_arrival  on_sale   embedding  \n",
       "0            4.9           72    False        False    False  [1.1, 2.2]  \n",
       "1            2.1          580     True        False    False  [1.1, 2.2]  \n",
       "2            4.6          653     True        False    False  [1.1, 2.2]  \n",
       "3            2.9          945    False        False    False  [1.1, 2.2]  \n",
       "4            3.6          228    False        False    False  [1.1, 2.2]  \n",
       "...          ...          ...      ...          ...      ...         ...  \n",
       "4994         3.7           14    False        False     True  [1.1, 2.2]  \n",
       "4995         1.1          976    False        False     True  [1.1, 2.2]  \n",
       "4996         3.0          545    False        False     True  [1.1, 2.2]  \n",
       "4997         4.3          580    False        False    False  [1.1, 2.2]  \n",
       "4998         3.3          870    False        False    False  [1.1, 2.2]  \n",
       "\n",
       "[4999 rows x 11 columns]"
      ]
     },
     "execution_count": 66,
     "metadata": {},
     "output_type": "execute_result"
    }
   ],
   "source": [
    "item_df"
   ]
  },
  {
   "cell_type": "code",
   "execution_count": 53,
   "metadata": {},
   "outputs": [
    {
     "data": {
      "text/plain": [
       "0       [1.1, 2.2]\n",
       "1       [1.1, 2.2]\n",
       "2       [1.1, 2.2]\n",
       "3       [1.1, 2.2]\n",
       "4       [1.1, 2.2]\n",
       "           ...    \n",
       "4994    [1.1, 2.2]\n",
       "4995    [1.1, 2.2]\n",
       "4996    [1.1, 2.2]\n",
       "4997    [1.1, 2.2]\n",
       "4998    [1.1, 2.2]\n",
       "Name: embedding, Length: 4999, dtype: object"
      ]
     },
     "execution_count": 53,
     "metadata": {},
     "output_type": "execute_result"
    }
   ],
   "source": [
    "item_df['embedding']"
   ]
  },
  {
   "cell_type": "markdown",
   "metadata": {},
   "source": [
    "# Materialize\n",
    "Materialization generates the latest values for each entity key in the online store and creates a time-based index to enhance retrieval speed.\n",
    "The `materialize-incremental `command materializes the offline store initially and, on subsequent runs, ingests only new data and updates the store."
   ]
  },
  {
   "cell_type": "code",
   "execution_count": null,
   "metadata": {},
   "outputs": [],
   "source": [
    "store.materialize_incremental(datetime.now() - timedelta(days=365 * 5), feature_views=['item_embedding', 'user_embedding'])"
   ]
  },
  {
   "cell_type": "markdown",
   "metadata": {},
   "source": [
    "# Inferencing"
   ]
  },
  {
   "cell_type": "markdown",
   "metadata": {},
   "source": [
    "## Existing User Case"
   ]
  },
  {
   "cell_type": "markdown",
   "metadata": {},
   "source": [
    "## New User Case\n"
   ]
  },
  {
   "cell_type": "code",
   "execution_count": null,
   "metadata": {},
   "outputs": [],
   "source": [
    "from feast import FeatureStore\n",
    "\n",
    "store = FeatureStore(repo_path=\".\")\n",
    "\n",
    "import pandas as pd\n",
    "\n",
    "# Get the latest feature values for unique entities\n",
    "entity_df = pd.DataFrame.from_dict({\"driver_id\": [1001, 1002, 1003, 1004, 1005],})\n",
    "entity_df[\"event_timestamp\"] = pd.to_datetime(\"now\", utc=True)\n",
    "training_df = store.get_historical_features(\n",
    "    entity_df=entity_df, features=store.get_feature_service(\"model_v2\"),\n",
    ").to_df()\n",
    "\n",
    "# Make batch predictions\n",
    "# predictions = model.predict(training_df)\n",
    "print(training_df)\n"
   ]
  },
  {
   "cell_type": "markdown",
   "metadata": {},
   "source": []
  }
 ],
 "metadata": {
  "kernelspec": {
   "display_name": "we",
   "language": "python",
   "name": "python3"
  },
  "language_info": {
   "codemirror_mode": {
    "name": "ipython",
    "version": 3
   },
   "file_extension": ".py",
   "mimetype": "text/x-python",
   "name": "python",
   "nbconvert_exporter": "python",
   "pygments_lexer": "ipython3",
   "version": "3.11.11"
  }
 },
 "nbformat": 4,
 "nbformat_minor": 2
}
