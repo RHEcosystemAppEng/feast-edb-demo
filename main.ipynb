{
 "cells": [
  {
   "cell_type": "markdown",
   "metadata": {},
   "source": [
    "### Requirements\n",
    "* EDB database with vector extended `create extension vector;`\n",
    "* Feast operator\n",
    "\n",
    "Install the repo requirment packages\n",
    "```\n",
    "!pip install uv \n",
    "!uv pip install -r pyproject.toml\n",
    "```"
   ]
  },
  {
   "cell_type": "markdown",
   "metadata": {},
   "source": [
    "# Dataset\n",
    "Our reccomendation system, objected\n",
    "\n",
    "Generate dataset for the recommendation system problem\n"
   ]
  },
  {
   "cell_type": "code",
   "execution_count": 1,
   "metadata": {},
   "outputs": [],
   "source": [
    "!rm -rf feature_repo/data/* # TODO remove me "
   ]
  },
  {
   "cell_type": "code",
   "execution_count": 2,
   "metadata": {},
   "outputs": [
    {
     "name": "stdout",
     "output_type": "stream",
     "text": [
      "Users sample:\n",
      "   user_id  age gender signup_date preferences\n",
      "0        1   56      F  2023-09-28    Clothing\n",
      "1        2   25      F  2023-04-13       Books\n",
      "2        3   36      M  2023-03-29      Sports\n",
      "3        4   53      M  2023-05-11      Sports\n",
      "4        5   19      F  2023-10-21       Books\n",
      "\n",
      "Items sample:\n",
      "   item_id     category  subcategory  ...  new_arrival  on_sale        arrival_date\n",
      "0        1        Books      Science  ...        False     True 2023-10-10 23:41:00\n",
      "1        2  Electronics  Accessories  ...        False     True 2023-12-18 04:35:00\n",
      "2        3        Books      Fiction  ...         True    False 2023-04-19 02:38:00\n",
      "3        4  Electronics  Accessories  ...        False    False 2023-10-12 14:36:00\n",
      "4        5       Sports     Footwear  ...         True    False 2023-04-18 17:29:00\n",
      "\n",
      "[5 rows x 10 columns]\n",
      "\n",
      "Interactions sample:\n",
      "   interaction_id  user_id  item_id  ... interaction_type rating  quantity\n",
      "0               1      462     2712  ...         purchase    NaN       1.0\n",
      "1               2      155     2379  ...         purchase    NaN       2.0\n",
      "2               3      555       95  ...             view    NaN       NaN\n",
      "3               4      390     3080  ...             view    NaN       NaN\n",
      "4               5      596     3607  ...             view    NaN       NaN\n",
      "\n",
      "[5 rows x 7 columns]\n"
     ]
    }
   ],
   "source": [
    "!python3 dataset_gen.py"
   ]
  },
  {
   "cell_type": "markdown",
   "metadata": {},
   "source": [
    "# Setup Feature Store\n",
    "\n",
    "We run the `feast apply` command to register the data"
   ]
  },
  {
   "cell_type": "code",
   "execution_count": 3,
   "metadata": {},
   "outputs": [
    {
     "name": "stdout",
     "output_type": "stream",
     "text": [
      "/home/ikatav/Projects/rec-sys-feast-edb/.venv/lib/python3.10/site-packages/feast/feature_view.py:48: DeprecationWarning: Entity value_type will be mandatory in the next release. Please specify a value_type for entity '__dummy'.\n",
      "  DUMMY_ENTITY = Entity(\n",
      "No project found in the repository. Using project name feast_edb_rec_sys defined in feature_store.yaml\n",
      "Applying changes for project feast_edb_rec_sys\n",
      "Deploying infrastructure for \u001b[1m\u001b[32muser_embedding\u001b[0m\n",
      "Deploying infrastructure for \u001b[1m\u001b[32muser_items\u001b[0m\n",
      "Deploying infrastructure for \u001b[1m\u001b[32muser_features\u001b[0m\n",
      "Deploying infrastructure for \u001b[1m\u001b[32mitem_features\u001b[0m\n",
      "Deploying infrastructure for \u001b[1m\u001b[32minteractions_features\u001b[0m\n",
      "Deploying infrastructure for \u001b[1m\u001b[32mitem_embedding\u001b[0m\n"
     ]
    }
   ],
   "source": [
    "!cd feature_repo/ ; feast apply "
   ]
  },
  {
   "cell_type": "code",
   "execution_count": 4,
   "metadata": {},
   "outputs": [
    {
     "name": "stderr",
     "output_type": "stream",
     "text": [
      "/home/ikatav/Projects/rec-sys-feast-edb/.venv/lib/python3.10/site-packages/feast/feature_view.py:48: DeprecationWarning: Entity value_type will be mandatory in the next release. Please specify a value_type for entity '__dummy'.\n",
      "  DUMMY_ENTITY = Entity(\n"
     ]
    }
   ],
   "source": [
    "from feast import FeatureStore\n",
    "from datetime import datetime, timedelta\n",
    "\n",
    "store = FeatureStore(repo_path=\"feature_repo/\")"
   ]
  },
  {
   "cell_type": "markdown",
   "metadata": {},
   "source": [
    "# Fatch training dataset using Feast\n",
    "Defining which features, users, items, and user-item interactions to use for the training."
   ]
  },
  {
   "cell_type": "code",
   "execution_count": 5,
   "metadata": {},
   "outputs": [],
   "source": [
    "import pandas as pd\n",
    "import numpy as np\n",
    "# load feature services\n",
    "item_service = store.get_feature_service(\"item_service\")\n",
    "user_service = store.get_feature_service(\"user_service\")\n",
    "interaction_service = store.get_feature_service(\"interaction_service\")\n",
    "\n",
    "num_users = 1_000\n",
    "n_items = 5_000\n",
    "\n",
    "user_ids = list(range(1, num_users+ 1))\n",
    "item_ids = list(range(1, n_items+ 1))\n",
    "\n",
    "# select which items to use for the training\n",
    "item_entity_df = pd.DataFrame.from_dict(\n",
    "    {\n",
    "        'item_id': item_ids,\n",
    "        'event_timestamp': [datetime(2025, 1, 1)] * len(item_ids) \n",
    "    }\n",
    ")\n",
    "# select which users to use for the training\n",
    "user_entity_df = pd.DataFrame.from_dict(\n",
    "    {\n",
    "        'user_id': user_ids,\n",
    "        'event_timestamp': [datetime(2025, 1, 1)] * len(user_ids) \n",
    "    }\n",
    ")\n",
    "# Select which item-user interactions to use for the training\n",
    "item_user_interactions_df = pd.read_parquet('./feature_repo/data/interactions_item_user_ids.parquet')\n",
    "item_user_interactions_df['event_timestamp'] = datetime(2025, 1, 1)"
   ]
  },
  {
   "cell_type": "markdown",
   "metadata": {},
   "source": [
    "Retrive training data from the Feast offline store"
   ]
  },
  {
   "cell_type": "code",
   "execution_count": 6,
   "metadata": {},
   "outputs": [],
   "source": [
    "# retrive datasets for training\n",
    "item_df = store.get_historical_features(entity_df=item_entity_df, features=item_service).to_df()\n",
    "user_df = store.get_historical_features(entity_df=user_entity_df, features=user_service).to_df()\n",
    "interaction_df = store.get_historical_features(entity_df=item_user_interactions_df, features=interaction_service).to_df()"
   ]
  },
  {
   "cell_type": "markdown",
   "metadata": {},
   "source": [
    "# Training"
   ]
  },
  {
   "cell_type": "code",
   "execution_count": 7,
   "metadata": {},
   "outputs": [],
   "source": [
    "from models.two_tower import TwoTowerModel\n",
    "from models.user_tower import UserTower\n",
    "from models.item_tower import ItemTower\n",
    "from models.train_two_tower import train_two_tower\n",
    "dim = 64\n",
    "\n",
    "item_encoder = ItemTower(dim)\n",
    "user_encoder = UserTower(dim)\n",
    "two_tower_model = TwoTowerModel(item_tower=item_encoder, user_tower=user_encoder)\n",
    "train_two_tower(two_tower_model, item_df, user_df, interaction_df)"
   ]
  },
  {
   "cell_type": "markdown",
   "metadata": {},
   "source": [
    "# Batch scoring\n",
    "Encode the items and users vector representation"
   ]
  },
  {
   "attachments": {
    "batch_scoring.drawio.png": {
     "image/png": "[encoded data removed]"
    }
   },
   "cell_type": "markdown",
   "metadata": {},
   "source": [
    "![batch_scoring.drawio.png](attachment:batch_scoring.drawio.png)"
   ]
  },
  {
   "cell_type": "code",
   "execution_count": 9,
   "metadata": {},
   "outputs": [],
   "source": [
    "from feast.data_source import PushMode\n",
    "from models.data_util import data_preproccess\n",
    "\n",
    "# Create a new table to be push to the online store\n",
    "item_embed_df = item_df[['item_id']].copy()\n",
    "user_embed_df = user_df[['user_id']].copy()\n",
    "\n",
    "# Encode the items and users\n",
    "item_embed_df['embedding'] = item_encoder(**data_preproccess(item_df)).detach().numpy().tolist()\n",
    "user_embed_df['embedding'] = user_encoder(**data_preproccess(user_df)).detach().numpy().tolist()\n",
    "\n",
    "# Add the currnet timestamp\n",
    "item_embed_df['event_timestamp'] = datetime.now()\n",
    "user_embed_df['event_timestamp'] = datetime.now()\n",
    "\n",
    "# Push the new embedding to the offline and online store\n",
    "store.push('item_embed_push_source', item_embed_df, to=PushMode.ONLINE_AND_OFFLINE)\n",
    "store.push('user_embed_push_source', user_embed_df, to=PushMode.ONLINE_AND_OFFLINE)"
   ]
  },
  {
   "cell_type": "code",
   "execution_count": 10,
   "metadata": {},
   "outputs": [
    {
     "data": {
      "text/html": [
       "<div>\n",
       "<style scoped>\n",
       "    .dataframe tbody tr th:only-of-type {\n",
       "        vertical-align: middle;\n",
       "    }\n",
       "\n",
       "    .dataframe tbody tr th {\n",
       "        vertical-align: top;\n",
       "    }\n",
       "\n",
       "    .dataframe thead th {\n",
       "        text-align: right;\n",
       "    }\n",
       "</style>\n",
       "<table border=\"1\" class=\"dataframe\">\n",
       "  <thead>\n",
       "    <tr style=\"text-align: right;\">\n",
       "      <th></th>\n",
       "      <th>item_id</th>\n",
       "      <th>embedding</th>\n",
       "      <th>event_timestamp</th>\n",
       "    </tr>\n",
       "  </thead>\n",
       "  <tbody>\n",
       "    <tr>\n",
       "      <th>0</th>\n",
       "      <td>167</td>\n",
       "      <td>[0.1930214762687683, 0.5716519951820374, -2.39...</td>\n",
       "      <td>2025-03-17 11:38:53.686447</td>\n",
       "    </tr>\n",
       "    <tr>\n",
       "      <th>1</th>\n",
       "      <td>1003</td>\n",
       "      <td>[-1.8535563945770264, 1.6982898712158203, -0.3...</td>\n",
       "      <td>2025-03-17 11:38:53.686447</td>\n",
       "    </tr>\n",
       "    <tr>\n",
       "      <th>2</th>\n",
       "      <td>4895</td>\n",
       "      <td>[-1.8535563945770264, 1.6982898712158203, -0.3...</td>\n",
       "      <td>2025-03-17 11:38:53.686447</td>\n",
       "    </tr>\n",
       "    <tr>\n",
       "      <th>3</th>\n",
       "      <td>3812</td>\n",
       "      <td>[-0.5457081198692322, 1.5239228010177612, 0.10...</td>\n",
       "      <td>2025-03-17 11:38:53.686447</td>\n",
       "    </tr>\n",
       "    <tr>\n",
       "      <th>4</th>\n",
       "      <td>4941</td>\n",
       "      <td>[0.13920743763446808, -0.5535377264022827, -0....</td>\n",
       "      <td>2025-03-17 11:38:53.686447</td>\n",
       "    </tr>\n",
       "    <tr>\n",
       "      <th>...</th>\n",
       "      <td>...</td>\n",
       "      <td>...</td>\n",
       "      <td>...</td>\n",
       "    </tr>\n",
       "    <tr>\n",
       "      <th>4995</th>\n",
       "      <td>1216</td>\n",
       "      <td>[0.1930214762687683, 0.5716519951820374, -2.39...</td>\n",
       "      <td>2025-03-17 11:38:53.686447</td>\n",
       "    </tr>\n",
       "    <tr>\n",
       "      <th>4996</th>\n",
       "      <td>4198</td>\n",
       "      <td>[0.13920743763446808, -0.5535377264022827, -0....</td>\n",
       "      <td>2025-03-17 11:38:53.686447</td>\n",
       "    </tr>\n",
       "    <tr>\n",
       "      <th>4997</th>\n",
       "      <td>112</td>\n",
       "      <td>[-0.8381839990615845, -0.4500148594379425, -0....</td>\n",
       "      <td>2025-03-17 11:38:53.686447</td>\n",
       "    </tr>\n",
       "    <tr>\n",
       "      <th>4998</th>\n",
       "      <td>2948</td>\n",
       "      <td>[-0.5457081198692322, 1.5239228010177612, 0.10...</td>\n",
       "      <td>2025-03-17 11:38:53.686447</td>\n",
       "    </tr>\n",
       "    <tr>\n",
       "      <th>4999</th>\n",
       "      <td>4708</td>\n",
       "      <td>[-0.5457081198692322, 1.5239228010177612, 0.10...</td>\n",
       "      <td>2025-03-17 11:38:53.686447</td>\n",
       "    </tr>\n",
       "  </tbody>\n",
       "</table>\n",
       "<p>5000 rows × 3 columns</p>\n",
       "</div>"
      ],
      "text/plain": [
       "      item_id                                          embedding  \\\n",
       "0         167  [0.1930214762687683, 0.5716519951820374, -2.39...   \n",
       "1        1003  [-1.8535563945770264, 1.6982898712158203, -0.3...   \n",
       "2        4895  [-1.8535563945770264, 1.6982898712158203, -0.3...   \n",
       "3        3812  [-0.5457081198692322, 1.5239228010177612, 0.10...   \n",
       "4        4941  [0.13920743763446808, -0.5535377264022827, -0....   \n",
       "...       ...                                                ...   \n",
       "4995     1216  [0.1930214762687683, 0.5716519951820374, -2.39...   \n",
       "4996     4198  [0.13920743763446808, -0.5535377264022827, -0....   \n",
       "4997      112  [-0.8381839990615845, -0.4500148594379425, -0....   \n",
       "4998     2948  [-0.5457081198692322, 1.5239228010177612, 0.10...   \n",
       "4999     4708  [-0.5457081198692322, 1.5239228010177612, 0.10...   \n",
       "\n",
       "                event_timestamp  \n",
       "0    2025-03-17 11:38:53.686447  \n",
       "1    2025-03-17 11:38:53.686447  \n",
       "2    2025-03-17 11:38:53.686447  \n",
       "3    2025-03-17 11:38:53.686447  \n",
       "4    2025-03-17 11:38:53.686447  \n",
       "...                         ...  \n",
       "4995 2025-03-17 11:38:53.686447  \n",
       "4996 2025-03-17 11:38:53.686447  \n",
       "4997 2025-03-17 11:38:53.686447  \n",
       "4998 2025-03-17 11:38:53.686447  \n",
       "4999 2025-03-17 11:38:53.686447  \n",
       "\n",
       "[5000 rows x 3 columns]"
      ]
     },
     "execution_count": 10,
     "metadata": {},
     "output_type": "execute_result"
    }
   ],
   "source": [
    "item_embed_df"
   ]
  },
  {
   "cell_type": "markdown",
   "metadata": {},
   "source": [
    "# Materialize\n",
    "Materialization generates the latest values for each entity key in the online store and creates a time-based index to enhance retrieval speed.\n",
    "The `materialize-incremental `command materializes the offline store initially and, on subsequent runs, ingests only new data and updates the store."
   ]
  },
  {
   "cell_type": "code",
   "execution_count": 11,
   "metadata": {},
   "outputs": [
    {
     "name": "stdout",
     "output_type": "stream",
     "text": [
      "Materializing \u001b[1m\u001b[32m1\u001b[0m feature views to \u001b[1m\u001b[32m2025-03-17 11:39:00+02:00\u001b[0m into the \u001b[1m\u001b[32mpostgres\u001b[0m online store.\n",
      "\n",
      "\u001b[1m\u001b[32mitem_embedding\u001b[0m from \u001b[1m\u001b[32m2020-03-18 11:39:00+02:00\u001b[0m to \u001b[1m\u001b[32m2025-03-17 11:39:00+02:00\u001b[0m:\n"
     ]
    },
    {
     "name": "stderr",
     "output_type": "stream",
     "text": [
      "/home/ikatav/Projects/rec-sys-feast-edb/.venv/lib/python3.10/site-packages/feast/entity.py:173: DeprecationWarning: Entity value_type will be mandatory in the next release. Please specify a value_type for entity 'item'.\n",
      "  entity = cls(\n",
      "100%|████████████████████████████████████████████████████████| 5000/5000 [00:00<00:00, 17744.52it/s]\n"
     ]
    }
   ],
   "source": [
    "# store.materialize_incremental(datetime.now() + timedelta(days=367) , feature_views=['item_embedding'])\n",
    "store.materialize_incremental(datetime.now(), feature_views=['item_embedding'])"
   ]
  },
  {
   "cell_type": "code",
   "execution_count": 19,
   "metadata": {},
   "outputs": [
    {
     "name": "stderr",
     "output_type": "stream",
     "text": [
      "/home/ikatav/Projects/rec-sys-feast-edb/.venv/lib/python3.10/site-packages/feast/entity.py:173: DeprecationWarning: Entity value_type will be mandatory in the next release. Please specify a value_type for entity 'item'.\n",
      "  entity = cls(\n"
     ]
    }
   ],
   "source": [
    "# store.get_online_features(f'{item_embedding_view}:item_id', item_entity_df)\n",
    "embed = store.get_online_features(entity_rows=[{'item_id': 1}], features=['item_embedding:embedding']).to_df().iloc[0]['embedding']\n",
    "# embed.to_df()"
   ]
  },
  {
   "cell_type": "code",
   "execution_count": 20,
   "metadata": {},
   "outputs": [
    {
     "data": {
      "text/html": [
       "<div>\n",
       "<style scoped>\n",
       "    .dataframe tbody tr th:only-of-type {\n",
       "        vertical-align: middle;\n",
       "    }\n",
       "\n",
       "    .dataframe tbody tr th {\n",
       "        vertical-align: top;\n",
       "    }\n",
       "\n",
       "    .dataframe thead th {\n",
       "        text-align: right;\n",
       "    }\n",
       "</style>\n",
       "<table border=\"1\" class=\"dataframe\">\n",
       "  <thead>\n",
       "    <tr style=\"text-align: right;\">\n",
       "      <th></th>\n",
       "      <th>embedding</th>\n",
       "      <th>distance</th>\n",
       "    </tr>\n",
       "  </thead>\n",
       "  <tbody>\n",
       "    <tr>\n",
       "      <th>0</th>\n",
       "      <td>[0.13920744,-0.5535377,-0.53997016,-1.152985,-...</td>\n",
       "      <td>0.000000</td>\n",
       "    </tr>\n",
       "    <tr>\n",
       "      <th>1</th>\n",
       "      <td>[0.13920744,-0.5535377,-0.53997016,-1.152985,-...</td>\n",
       "      <td>0.000003</td>\n",
       "    </tr>\n",
       "    <tr>\n",
       "      <th>2</th>\n",
       "      <td>[0.13920744,-0.5535377,-0.53997016,-1.152985,-...</td>\n",
       "      <td>0.000009</td>\n",
       "    </tr>\n",
       "    <tr>\n",
       "      <th>3</th>\n",
       "      <td>[0.13920744,-0.5535377,-0.53997016,-1.152985,-...</td>\n",
       "      <td>0.000017</td>\n",
       "    </tr>\n",
       "    <tr>\n",
       "      <th>4</th>\n",
       "      <td>[0.13920744,-0.5535377,-0.53997016,-1.152985,-...</td>\n",
       "      <td>0.000037</td>\n",
       "    </tr>\n",
       "    <tr>\n",
       "      <th>...</th>\n",
       "      <td>...</td>\n",
       "      <td>...</td>\n",
       "    </tr>\n",
       "    <tr>\n",
       "      <th>59</th>\n",
       "      <td>[0.13920744,-0.5535377,-0.53997016,-1.152985,-...</td>\n",
       "      <td>0.015759</td>\n",
       "    </tr>\n",
       "    <tr>\n",
       "      <th>60</th>\n",
       "      <td>[0.13920744,-0.5535377,-0.53997016,-1.152985,-...</td>\n",
       "      <td>0.015760</td>\n",
       "    </tr>\n",
       "    <tr>\n",
       "      <th>61</th>\n",
       "      <td>[0.13920744,-0.5535377,-0.53997016,-1.152985,-...</td>\n",
       "      <td>0.015763</td>\n",
       "    </tr>\n",
       "    <tr>\n",
       "      <th>62</th>\n",
       "      <td>[0.13920744,-0.5535377,-0.53997016,-1.152985,-...</td>\n",
       "      <td>0.015775</td>\n",
       "    </tr>\n",
       "    <tr>\n",
       "      <th>63</th>\n",
       "      <td>[0.13920744,-0.5535377,-0.53997016,-1.152985,-...</td>\n",
       "      <td>0.015784</td>\n",
       "    </tr>\n",
       "  </tbody>\n",
       "</table>\n",
       "<p>64 rows × 2 columns</p>\n",
       "</div>"
      ],
      "text/plain": [
       "                                            embedding  distance\n",
       "0   [0.13920744,-0.5535377,-0.53997016,-1.152985,-...  0.000000\n",
       "1   [0.13920744,-0.5535377,-0.53997016,-1.152985,-...  0.000003\n",
       "2   [0.13920744,-0.5535377,-0.53997016,-1.152985,-...  0.000009\n",
       "3   [0.13920744,-0.5535377,-0.53997016,-1.152985,-...  0.000017\n",
       "4   [0.13920744,-0.5535377,-0.53997016,-1.152985,-...  0.000037\n",
       "..                                                ...       ...\n",
       "59  [0.13920744,-0.5535377,-0.53997016,-1.152985,-...  0.015759\n",
       "60  [0.13920744,-0.5535377,-0.53997016,-1.152985,-...  0.015760\n",
       "61  [0.13920744,-0.5535377,-0.53997016,-1.152985,-...  0.015763\n",
       "62  [0.13920744,-0.5535377,-0.53997016,-1.152985,-...  0.015775\n",
       "63  [0.13920744,-0.5535377,-0.53997016,-1.152985,-...  0.015784\n",
       "\n",
       "[64 rows x 2 columns]"
      ]
     },
     "execution_count": 20,
     "metadata": {},
     "output_type": "execute_result"
    }
   ],
   "source": [
    "store.retrieve_online_documents(\n",
    "    query=embed,\n",
    "    top_k=64,\n",
    "    feature='item_embedding:embedding'\n",
    ").to_df()"
   ]
  },
  {
   "cell_type": "code",
   "execution_count": null,
   "metadata": {},
   "outputs": [],
   "source": [
    "# Calculate user recommendations for each user\n",
    "item_embedding_view = 'item_embedding'\n",
    "k = 64\n",
    "item_recommendation = []\n",
    "for user_embed in user_embed_df['embedding']:\n",
    "    item_recommendation.append(\n",
    "        store.retrieve_online_documents(\n",
    "            query=user_embed,\n",
    "            top_k=k,\n",
    "            feature=f'{item_embedding_view}:item_id'\n",
    "        ).to_df()\n",
    "    )\n",
    "item_recommendation = [np.random.randint(0, len(user_embed_df), k).tolist()] *len(user_embed_df)\n",
    "# Pushing the calculated items to the online store\n",
    "user_items_df = user_embed_df[['user_id']].copy()\n",
    "user_items_df['event_timestamp'] = datetime.now()\n",
    "user_items_df['top_k_item_ids'] = item_recommendation\n",
    "\n",
    "store.push('user_items_push_source', user_items_df, to=PushMode.ONLINE)"
   ]
  },
  {
   "cell_type": "markdown",
   "metadata": {},
   "source": [
    "# Inferencing"
   ]
  },
  {
   "cell_type": "markdown",
   "metadata": {},
   "source": [
    "## Existing User Case"
   ]
  },
  {
   "attachments": {
    "1.drawio.png": {
     "image/png": "[encoded data removed]"
    }
   },
   "cell_type": "markdown",
   "metadata": {},
   "source": [
    "![1.drawio.png](attachment:1.drawio.png)"
   ]
  },
  {
   "cell_type": "code",
   "execution_count": null,
   "metadata": {},
   "outputs": [
    {
     "name": "stderr",
     "output_type": "stream",
     "text": [
      "/home/ikatav/Projects/rec-sys-feast-edb/.venv/lib/python3.10/site-packages/feast/entity.py:173: DeprecationWarning: Entity value_type will be mandatory in the next release. Please specify a value_type for entity 'item'.\n",
      "  entity = cls(\n",
      "/home/ikatav/Projects/rec-sys-feast-edb/.venv/lib/python3.10/site-packages/feast/entity.py:173: DeprecationWarning: Entity value_type will be mandatory in the next release. Please specify a value_type for entity 'user'.\n",
      "  entity = cls(\n",
      "/home/ikatav/Projects/rec-sys-feast-edb/.venv/lib/python3.10/site-packages/feast/entity.py:173: DeprecationWarning: Entity value_type will be mandatory in the next release. Please specify a value_type for entity '__dummy'.\n",
      "  entity = cls(\n"
     ]
    },
    {
     "data": {
      "text/html": [
       "<div>\n",
       "<style scoped>\n",
       "    .dataframe tbody tr th:only-of-type {\n",
       "        vertical-align: middle;\n",
       "    }\n",
       "\n",
       "    .dataframe tbody tr th {\n",
       "        vertical-align: top;\n",
       "    }\n",
       "\n",
       "    .dataframe thead th {\n",
       "        text-align: right;\n",
       "    }\n",
       "</style>\n",
       "<table border=\"1\" class=\"dataframe\">\n",
       "  <thead>\n",
       "    <tr style=\"text-align: right;\">\n",
       "      <th></th>\n",
       "      <th>user_id</th>\n",
       "      <th>top_k_item_ids</th>\n",
       "    </tr>\n",
       "  </thead>\n",
       "  <tbody>\n",
       "    <tr>\n",
       "      <th>0</th>\n",
       "      <td>20</td>\n",
       "      <td>[875, 132, 944, 724, 504, 280, 511, 155, 182, ...</td>\n",
       "    </tr>\n",
       "  </tbody>\n",
       "</table>\n",
       "</div>"
      ],
      "text/plain": [
       "   user_id                                     top_k_item_ids\n",
       "0       20  [875, 132, 944, 724, 504, 280, 511, 155, 182, ..."
      ]
     },
     "execution_count": 16,
     "metadata": {},
     "output_type": "execute_result"
    }
   ],
   "source": [
    "existing_user_ids = np.random.randint(1, num_users + 1, 1)\n",
    "suggested_items = store.get_online_features(\n",
    "    features=store.get_feature_service('user_top_k_items'),\n",
    "    entity_rows=[{'user_id': user_id} for user_id in existing_user_ids]\n",
    ")\n",
    "\n",
    "suggested_items.to_df()"
   ]
  },
  {
   "cell_type": "markdown",
   "metadata": {},
   "source": [
    "## New User Case\n"
   ]
  },
  {
   "attachments": {
    "2.drawio.png": {
     "image/png": "[encoded data removed]"
    }
   },
   "cell_type": "markdown",
   "metadata": {},
   "source": [
    "![2.drawio.png](attachment:2.drawio.png)"
   ]
  },
  {
   "cell_type": "code",
   "execution_count": null,
   "metadata": {},
   "outputs": [],
   "source": [
    "from dataset_gen import generate_users\n",
    "num_new_user = 1\n",
    "new_users = generate_users(num_new_user, num_users + 1)\n",
    "new_users_embeddings = user_encoder(**data_preproccess(new_users))\n",
    "top_k_items = []\n",
    "for user_embed in new_users_embeddings:\n",
    "    top_k = store.retrieve_online_documents(\n",
    "        query=new_users_embeddings,\n",
    "        top_k=k,\n",
    "        feature=f'{item_embedding_view}:embedding'\n",
    "    )\n",
    "    top_k_items.append(top_k)\n",
    "\n",
    "new_users['top_k_items'] = top_k_items\n",
    "new_users[['user_id', 'top_k_items']]"
   ]
  },
  {
   "cell_type": "code",
   "execution_count": null,
   "metadata": {},
   "outputs": [],
   "source": []
  },
  {
   "cell_type": "code",
   "execution_count": null,
   "metadata": {},
   "outputs": [],
   "source": [
    "# import sqlite3\n",
    "\n",
    "# # Connect to the SQLite database\n",
    "# connection = sqlite3.connect('feature_repo/data/online_store.db')\n",
    "\n",
    "# # Create a cursor object to interact with the database\n",
    "# cursor = connection.cursor()\n",
    "\n",
    "# # Query to get the list of tables\n",
    "# cursor.execute(\"SELECT name FROM sqlite_master WHERE type='table';\")\n",
    "# # Query to retrieve all rows from the table\n",
    "# table_name = \"feast_edb_rec_sys_user_embedding\"\n",
    "# cursor.execute(f\"SELECT * FROM {table_name} LIMIT 10;\")  # Fetchi\n",
    "# # Fetch all results\n",
    "# tables = cursor.fetchall()\n",
    "\n",
    "# # Print the list of tables\n",
    "# for table in tables:\n",
    "#     print(table[0])\n",
    "\n",
    "# # Close the connection\n",
    "# connection.close()\n",
    "\n"
   ]
  },
  {
   "cell_type": "code",
   "execution_count": null,
   "metadata": {},
   "outputs": [],
   "source": [
    "# # Calculate user recommendations for each user\n",
    "# item_embedding_view = 'item_embedding'\n",
    "# user_embedding_view = 'user_embedding'\n",
    "# k = 64\n",
    "# item_recommendation = []\n",
    "# for user_embed in user_embed_df['embedding']:\n",
    "#     item_recommendation.append(\n",
    "#         store.retrieve_online_documents_v2(\n",
    "#             query=user_embed,\n",
    "#             top_k=k,\n",
    "#             features=[f'{item_embedding_view}:embedding',\n",
    "#                       f'{item_embedding_view}:item_id']\n",
    "#         )\n",
    "#     )\n",
    "# # item_recommendation = [np.random.randint(0, len(user_embed_df), k).tolist()] *len(user_embed_df)\n",
    "# # Pushing the calculated items to the online store\n",
    "# user_items_df = user_embed_df[['user_id']].copy()\n",
    "# user_items_df['event_timestamp'] = datetime.now()\n",
    "# user_items_df['top_k_item_ids'] = item_recommendation\n",
    "\n",
    "# store.push('user_items_push_source', user_items_df, to=PushMode.ONLINE)"
   ]
  }
 ],
 "metadata": {
  "kernelspec": {
   "display_name": ".venv",
   "language": "python",
   "name": "python3"
  },
  "language_info": {
   "codemirror_mode": {
    "name": "ipython",
    "version": 3
   },
   "file_extension": ".py",
   "mimetype": "text/x-python",
   "name": "python",
   "nbconvert_exporter": "python",
   "pygments_lexer": "ipython3",
   "version": "3.10.14"
  }
 },
 "nbformat": 4,
 "nbformat_minor": 2
}
