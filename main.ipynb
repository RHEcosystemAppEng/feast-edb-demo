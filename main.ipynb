{
 "cells": [
  {
   "cell_type": "markdown",
   "metadata": {},
   "source": [
    "# dataset\n",
    "Generate dataset for the recommendation system plroblem"
   ]
  },
  {
   "cell_type": "code",
   "execution_count": 106,
   "metadata": {},
   "outputs": [],
   "source": [
    "!rm -rf feature_repo/data/*"
   ]
  },
  {
   "cell_type": "code",
   "execution_count": 107,
   "metadata": {},
   "outputs": [
    {
     "name": "stdout",
     "output_type": "stream",
     "text": [
      "Users sample:\n",
      "   user_id  age gender signup_date          preferences\n",
      "0        1   56      F  2023-09-28  Home,Books,Clothing\n",
      "1        2   36      M  2023-03-29          Electronics\n",
      "2        3   19      F  2023-10-21       Clothing,Books\n",
      "3        4   39      M  2023-12-11          Electronics\n",
      "4        5   45  Other  2023-09-28    Electronics,Books\n",
      "\n",
      "Items sample:\n",
      "   item_id  category  subcategory  ...  new_arrival  on_sale        arrival_date\n",
      "0        1    Sports  Team Sports  ...        False    False 2023-03-13 04:48:00\n",
      "1        2      Home      Kitchen  ...        False     True 2023-08-31 09:14:00\n",
      "2        3     Books      Science  ...        False    False 2023-01-02 12:40:00\n",
      "3        4  Clothing  Accessories  ...        False    False 2023-05-08 06:41:00\n",
      "4        5    Sports  Team Sports  ...        False    False 2023-05-27 08:28:00\n",
      "\n",
      "[5 rows x 10 columns]\n",
      "\n",
      "Interactions sample:\n",
      "   interaction_id  user_id  item_id  ... interaction_type rating  quantity\n",
      "0               1      382     1258  ...             view    NaN       NaN\n",
      "1               2      472     3771  ...         purchase    NaN       1.0\n",
      "2               3      669     1489  ...             view    NaN       NaN\n",
      "3               4      277     4743  ...             view    NaN       NaN\n",
      "4               5      365     2152  ...             view    NaN       NaN\n",
      "\n",
      "[5 rows x 7 columns]\n"
     ]
    }
   ],
   "source": [
    "!python3 dataset_gen.py"
   ]
  },
  {
   "cell_type": "markdown",
   "metadata": {},
   "source": [
    "# Setup Feature Store\n",
    "\n",
    "We run the `feast apply` command to register the data"
   ]
  },
  {
   "cell_type": "code",
   "execution_count": 108,
   "metadata": {},
   "outputs": [],
   "source": [
    "# ! feast init feature_repo"
   ]
  },
  {
   "cell_type": "code",
   "execution_count": 109,
   "metadata": {},
   "outputs": [
    {
     "name": "stdout",
     "output_type": "stream",
     "text": [
      "/home/ikatav/Projects/rec-sys-feast-edb/.venv/lib/python3.10/site-packages/feast/feature_view.py:48: DeprecationWarning: Entity value_type will be mandatory in the next release. Please specify a value_type for entity '__dummy'.\n",
      "  DUMMY_ENTITY = Entity(\n",
      "/home/ikatav/Projects/rec-sys-feast-edb/.venv/lib/python3.10/site-packages/pydantic/_internal/_fields.py:192: UserWarning: Field name \"vector_enabled\" in \"SqliteOnlineStoreConfig\" shadows an attribute in parent \"VectorStoreConfig\"\n",
      "  warnings.warn(\n",
      "/home/ikatav/Projects/rec-sys-feast-edb/.venv/lib/python3.10/site-packages/pydantic/_internal/_fields.py:192: UserWarning: Field name \"vector_len\" in \"SqliteOnlineStoreConfig\" shadows an attribute in parent \"VectorStoreConfig\"\n",
      "  warnings.warn(\n",
      "No project found in the repository. Using project name feast_edb_rec_sys defined in feature_store.yaml\n",
      "Applying changes for project feast_edb_rec_sys\n",
      "Created project \u001b[1m\u001b[32mfeast_edb_rec_sys\u001b[0m\n",
      "Created entity \u001b[1m\u001b[32muser\u001b[0m\n",
      "Created entity \u001b[1m\u001b[32mitem\u001b[0m\n",
      "Created feature view \u001b[1m\u001b[32muser_features\u001b[0m\n",
      "Created feature view \u001b[1m\u001b[32muser_embedding\u001b[0m\n",
      "Created feature view \u001b[1m\u001b[32mitem_embedding\u001b[0m\n",
      "Created feature view \u001b[1m\u001b[32mitem_features\u001b[0m\n",
      "Created feature view \u001b[1m\u001b[32minteractions_features\u001b[0m\n",
      "Created feature view \u001b[1m\u001b[32muser_items\u001b[0m\n",
      "Created feature service \u001b[1m\u001b[32mmodel_v2\u001b[0m\n",
      "Created feature service \u001b[1m\u001b[32minteraction_service\u001b[0m\n",
      "Created feature service \u001b[1m\u001b[32mitem_embedding\u001b[0m\n",
      "Created feature service \u001b[1m\u001b[32mitem_service\u001b[0m\n",
      "Created feature service \u001b[1m\u001b[32mmodel_v1\u001b[0m\n",
      "Created feature service \u001b[1m\u001b[32muser_service\u001b[0m\n",
      "\n",
      "Created sqlite table \u001b[1m\u001b[32mfeast_edb_rec_sys_interactions_features\u001b[0m\n",
      "Created sqlite table \u001b[1m\u001b[32mfeast_edb_rec_sys_item_embedding\u001b[0m\n",
      "Created sqlite table \u001b[1m\u001b[32mfeast_edb_rec_sys_item_features\u001b[0m\n",
      "Created sqlite table \u001b[1m\u001b[32mfeast_edb_rec_sys_user_features\u001b[0m\n",
      "Created sqlite table \u001b[1m\u001b[32mfeast_edb_rec_sys_user_embedding\u001b[0m\n",
      "Created sqlite table \u001b[1m\u001b[32mfeast_edb_rec_sys_user_items\u001b[0m\n",
      "\n"
     ]
    }
   ],
   "source": [
    "!cd feature_repo/ ; feast apply "
   ]
  },
  {
   "cell_type": "code",
   "execution_count": 110,
   "metadata": {},
   "outputs": [],
   "source": [
    "from feast import FeatureStore\n",
    "from datetime import datetime, timedelta\n",
    "\n",
    "store = FeatureStore(repo_path=\"feature_repo/\")"
   ]
  },
  {
   "cell_type": "markdown",
   "metadata": {},
   "source": [
    "# Generating datasets using Feast"
   ]
  },
  {
   "cell_type": "code",
   "execution_count": 111,
   "metadata": {},
   "outputs": [],
   "source": [
    "from feast import FeatureService\n",
    "import pandas as pd\n",
    "from itertools import product\n",
    "# load feature services\n",
    "item_service = store.get_feature_service(\"item_service\")\n",
    "user_service = store.get_feature_service(\"user_service\")\n",
    "interaction_service = store.get_feature_service(\"interaction_service\")\n",
    "\n",
    "user_ids = list(range(1, 1_000))\n",
    "item_ids = list(range(1, 5_000))\n",
    "\n",
    "# select which entities to use\n",
    "item_entity_df = pd.DataFrame.from_dict(\n",
    "    {\n",
    "        'item_id': item_ids,\n",
    "        'event_timestamp': [datetime(2025, 1, 1)] * len(item_ids) \n",
    "    }\n",
    ")\n",
    "user_entity_df = pd.DataFrame.from_dict(\n",
    "    {\n",
    "        'user_id': user_ids,\n",
    "        'event_timestamp': [datetime(2025, 1, 1)] * len(user_ids) \n",
    "    }\n",
    ")\n",
    "item_user_interactions_df = pd.read_parquet('./feature_repo/data/interactions_item_user_ids.parquet')\n",
    "item_user_interactions_df['event_timestamp'] = datetime(2025, 1, 1)\n",
    "\n",
    "# retrive datasets for training\n",
    "item_df = store.get_historical_features(entity_df=item_entity_df, features=item_service).to_df()\n",
    "user_df = store.get_historical_features(entity_df=user_entity_df, features=user_service).to_df()\n",
    "interaction_df = store.get_historical_features(entity_df=item_user_interactions_df, features=interaction_service).to_df()"
   ]
  },
  {
   "cell_type": "markdown",
   "metadata": {},
   "source": [
    "# Training"
   ]
  },
  {
   "cell_type": "code",
   "execution_count": 112,
   "metadata": {},
   "outputs": [],
   "source": [
    "# from models import ItemEncoder, UserEncoder, TwoTowerModel, train_two_tower\n",
    "# dim = 512\n",
    "\n",
    "# item_encoder = ItemEncoder(dim)\n",
    "# user_encoder = UserEncoder(dim)\n",
    "# two_tower_model = TwoTowerModel(item_encoder=item_encoder, user_encoder=user_encoder)\n",
    "# train_two_tower(two_tower_model, item_df, user_df, interaction_df)"
   ]
  },
  {
   "cell_type": "markdown",
   "metadata": {},
   "source": [
    "# Batch scoring\n",
    "Encode the items and users vector representation"
   ]
  },
  {
   "cell_type": "code",
   "execution_count": 113,
   "metadata": {},
   "outputs": [],
   "source": [
    "# embeded_items = item_encoder(item_df)\n",
    "# embeded_users = user_encoder(user_df)\n",
    "# item_df['embedding'] = embeded_items\n",
    "# user_df['embedding'] = embeded_users\n",
    "\n",
    "# # Push the new embedding to the offline and online store\n",
    "# store.push('user_embed_push_source', item_df)\n",
    "# store.push('item_embed_push_source', user_df)\n",
    "# # store.push('user_embed_push_source', item_df[['item_id', 'embedding']])\n",
    "# # store.push('item_embed_push_source', user_df[['user_id', 'embedding']])"
   ]
  },
  {
   "attachments": {
    "batch_scoring.drawio.png": {
     "image/png": "[encoded data removed]"
    }
   },
   "cell_type": "markdown",
   "metadata": {},
   "source": [
    "![batch_scoring.drawio.png](attachment:batch_scoring.drawio.png)"
   ]
  },
  {
   "cell_type": "markdown",
   "metadata": {},
   "source": [
    "Problem that arises\n",
    "* after pushing the "
   ]
  },
  {
   "cell_type": "code",
   "execution_count": 114,
   "metadata": {},
   "outputs": [],
   "source": [
    "from feast.data_source import PushMode\n",
    "import numpy as np\n",
    "k = 10\n",
    "\n",
    "# Create embedding for items and users\n",
    "# embeded_items = item_encoder(item_df)\n",
    "# embeded_users = user_encoder(user_df)\n",
    "item_embed_df = item_df[['item_id']].copy()\n",
    "user_embed_df = user_df[['user_id']].copy()\n",
    "\n",
    "item_embed_df['embedding'] = np.random.randn(len(item_embed_df), 64).tolist()\n",
    "user_embed_df['embedding'] = np.random.randn(len(user_embed_df), 64).tolist()\n",
    "item_embed_df['event_timestamp'] = datetime.now()\n",
    "user_embed_df['event_timestamp'] = datetime.now()\n",
    "\n",
    "# Push the new embedding to the offline and online store\n",
    "store.push('item_embed_push_source', item_embed_df, to=PushMode.ONLINE_AND_OFFLINE)\n",
    "store.push('user_embed_push_source', user_embed_df, to=PushMode.ONLINE_AND_OFFLINE)"
   ]
  },
  {
   "cell_type": "markdown",
   "metadata": {},
   "source": [
    "# Materialize\n",
    "Materialization generates the latest values for each entity key in the online store and creates a time-based index to enhance retrieval speed.\n",
    "The `materialize-incremental `command materializes the offline store initially and, on subsequent runs, ingests only new data and updates the store."
   ]
  },
  {
   "cell_type": "code",
   "execution_count": 115,
   "metadata": {},
   "outputs": [
    {
     "name": "stdout",
     "output_type": "stream",
     "text": [
      "Materializing \u001b[1m\u001b[32m1\u001b[0m feature views to \u001b[1m\u001b[32m2020-03-07 17:43:48+02:00\u001b[0m into the \u001b[1m\u001b[32msqlite\u001b[0m online store.\n",
      "\n",
      "\u001b[1m\u001b[32mitem_embedding\u001b[0m from \u001b[1m\u001b[32m2020-03-07 17:43:48+02:00\u001b[0m to \u001b[1m\u001b[32m2020-03-07 17:43:48+02:00\u001b[0m:\n"
     ]
    },
    {
     "name": "stderr",
     "output_type": "stream",
     "text": [
      "/home/ikatav/Projects/rec-sys-feast-edb/.venv/lib/python3.10/site-packages/feast/entity.py:173: DeprecationWarning: Entity value_type will be mandatory in the next release. Please specify a value_type for entity 'item'.\n",
      "  entity = cls(\n",
      "0it [00:00, ?it/s]\n"
     ]
    }
   ],
   "source": [
    "# store.materialize_incremental(datetime.now(), feature_views=['item_embedding'])\n",
    "store.materialize_incremental(datetime.now() - timedelta(days=365 * 5), feature_views=['item_embedding'])"
   ]
  },
  {
   "cell_type": "code",
   "execution_count": 116,
   "metadata": {},
   "outputs": [
    {
     "name": "stderr",
     "output_type": "stream",
     "text": [
      "/home/ikatav/Projects/rec-sys-feast-edb/.venv/lib/python3.10/site-packages/feast/entity.py:173: DeprecationWarning: Entity value_type will be mandatory in the next release. Please specify a value_type for entity 'user'.\n",
      "  entity = cls(\n",
      "/home/ikatav/Projects/rec-sys-feast-edb/.venv/lib/python3.10/site-packages/feast/entity.py:173: DeprecationWarning: Entity value_type will be mandatory in the next release. Please specify a value_type for entity 'item'.\n",
      "  entity = cls(\n",
      "/home/ikatav/Projects/rec-sys-feast-edb/.venv/lib/python3.10/site-packages/feast/entity.py:173: DeprecationWarning: Entity value_type will be mandatory in the next release. Please specify a value_type for entity '__dummy'.\n",
      "  entity = cls(\n"
     ]
    },
    {
     "data": {
      "text/html": [
       "<div>\n",
       "<style scoped>\n",
       "    .dataframe tbody tr th:only-of-type {\n",
       "        vertical-align: middle;\n",
       "    }\n",
       "\n",
       "    .dataframe tbody tr th {\n",
       "        vertical-align: top;\n",
       "    }\n",
       "\n",
       "    .dataframe thead th {\n",
       "        text-align: right;\n",
       "    }\n",
       "</style>\n",
       "<table border=\"1\" class=\"dataframe\">\n",
       "  <thead>\n",
       "    <tr style=\"text-align: right;\">\n",
       "      <th></th>\n",
       "      <th>item_id</th>\n",
       "      <th>embedding</th>\n",
       "    </tr>\n",
       "  </thead>\n",
       "  <tbody>\n",
       "    <tr>\n",
       "      <th>0</th>\n",
       "      <td>1</td>\n",
       "      <td>[-1.3484702110290527, -0.6716884970664978, -1....</td>\n",
       "    </tr>\n",
       "    <tr>\n",
       "      <th>1</th>\n",
       "      <td>2</td>\n",
       "      <td>[-1.3126925230026245, 0.5846939086914062, -1.5...</td>\n",
       "    </tr>\n",
       "    <tr>\n",
       "      <th>2</th>\n",
       "      <td>3</td>\n",
       "      <td>[1.573253870010376, 0.47619614005088806, -0.70...</td>\n",
       "    </tr>\n",
       "    <tr>\n",
       "      <th>3</th>\n",
       "      <td>4</td>\n",
       "      <td>[-0.8317111730575562, 1.628764033317566, -0.42...</td>\n",
       "    </tr>\n",
       "    <tr>\n",
       "      <th>4</th>\n",
       "      <td>5</td>\n",
       "      <td>[-0.7451332807540894, -0.9287019371986389, 0.9...</td>\n",
       "    </tr>\n",
       "    <tr>\n",
       "      <th>...</th>\n",
       "      <td>...</td>\n",
       "      <td>...</td>\n",
       "    </tr>\n",
       "    <tr>\n",
       "      <th>4994</th>\n",
       "      <td>4995</td>\n",
       "      <td>[-0.49576976895332336, 0.0219541247934103, 0.1...</td>\n",
       "    </tr>\n",
       "    <tr>\n",
       "      <th>4995</th>\n",
       "      <td>4996</td>\n",
       "      <td>[0.30296850204467773, -0.25153112411499023, 0....</td>\n",
       "    </tr>\n",
       "    <tr>\n",
       "      <th>4996</th>\n",
       "      <td>4997</td>\n",
       "      <td>[-0.229095920920372, -1.2500381469726562, -0.6...</td>\n",
       "    </tr>\n",
       "    <tr>\n",
       "      <th>4997</th>\n",
       "      <td>4998</td>\n",
       "      <td>[-0.10956749320030212, -0.11476978659629822, 0...</td>\n",
       "    </tr>\n",
       "    <tr>\n",
       "      <th>4998</th>\n",
       "      <td>4999</td>\n",
       "      <td>[-1.2073413133621216, -1.3911211490631104, -1....</td>\n",
       "    </tr>\n",
       "  </tbody>\n",
       "</table>\n",
       "<p>4999 rows × 2 columns</p>\n",
       "</div>"
      ],
      "text/plain": [
       "      item_id                                          embedding\n",
       "0           1  [-1.3484702110290527, -0.6716884970664978, -1....\n",
       "1           2  [-1.3126925230026245, 0.5846939086914062, -1.5...\n",
       "2           3  [1.573253870010376, 0.47619614005088806, -0.70...\n",
       "3           4  [-0.8317111730575562, 1.628764033317566, -0.42...\n",
       "4           5  [-0.7451332807540894, -0.9287019371986389, 0.9...\n",
       "...       ...                                                ...\n",
       "4994     4995  [-0.49576976895332336, 0.0219541247934103, 0.1...\n",
       "4995     4996  [0.30296850204467773, -0.25153112411499023, 0....\n",
       "4996     4997  [-0.229095920920372, -1.2500381469726562, -0.6...\n",
       "4997     4998  [-0.10956749320030212, -0.11476978659629822, 0...\n",
       "4998     4999  [-1.2073413133621216, -1.3911211490631104, -1....\n",
       "\n",
       "[4999 rows x 2 columns]"
      ]
     },
     "execution_count": 116,
     "metadata": {},
     "output_type": "execute_result"
    }
   ],
   "source": [
    "store.get_online_features(store.get_feature_service('item_embedding'), [{'item_id': i} for i in range(1, 5000)]).to_df()"
   ]
  },
  {
   "cell_type": "code",
   "execution_count": 117,
   "metadata": {},
   "outputs": [
    {
     "ename": "OperationalError",
     "evalue": "UNIQUE constraint failed on vec_table primary key",
     "output_type": "error",
     "traceback": [
      "\u001b[0;31m---------------------------------------------------------------------------\u001b[0m",
      "\u001b[0;31mOperationalError\u001b[0m                          Traceback (most recent call last)",
      "Cell \u001b[0;32mIn[117], line 8\u001b[0m\n\u001b[1;32m      5\u001b[0m item_recommendation \u001b[38;5;241m=\u001b[39m []\n\u001b[1;32m      6\u001b[0m \u001b[38;5;28;01mfor\u001b[39;00m user_embed \u001b[38;5;129;01min\u001b[39;00m user_embed_df[\u001b[38;5;124m'\u001b[39m\u001b[38;5;124membedding\u001b[39m\u001b[38;5;124m'\u001b[39m]:\n\u001b[1;32m      7\u001b[0m     item_recommendation\u001b[38;5;241m.\u001b[39mappend(\n\u001b[0;32m----> 8\u001b[0m         \u001b[43mstore\u001b[49m\u001b[38;5;241;43m.\u001b[39;49m\u001b[43mretrieve_online_documents_v2\u001b[49m\u001b[43m(\u001b[49m\n\u001b[1;32m      9\u001b[0m \u001b[43m            \u001b[49m\u001b[43mquery\u001b[49m\u001b[38;5;241;43m=\u001b[39;49m\u001b[43muser_embed\u001b[49m\u001b[43m,\u001b[49m\n\u001b[1;32m     10\u001b[0m \u001b[43m            \u001b[49m\u001b[43mtop_k\u001b[49m\u001b[38;5;241;43m=\u001b[39;49m\u001b[43mk\u001b[49m\u001b[43m,\u001b[49m\n\u001b[1;32m     11\u001b[0m \u001b[43m            \u001b[49m\u001b[43mfeatures\u001b[49m\u001b[38;5;241;43m=\u001b[39;49m\u001b[43m[\u001b[49m\u001b[38;5;124;43mf\u001b[39;49m\u001b[38;5;124;43m'\u001b[39;49m\u001b[38;5;132;43;01m{\u001b[39;49;00m\u001b[43mitem_embedding_view\u001b[49m\u001b[38;5;132;43;01m}\u001b[39;49;00m\u001b[38;5;124;43m:embedding\u001b[39;49m\u001b[38;5;124;43m'\u001b[39;49m\u001b[43m,\u001b[49m\n\u001b[1;32m     12\u001b[0m \u001b[43m                      \u001b[49m\u001b[38;5;124;43mf\u001b[39;49m\u001b[38;5;124;43m'\u001b[39;49m\u001b[38;5;132;43;01m{\u001b[39;49;00m\u001b[43mitem_embedding_view\u001b[49m\u001b[38;5;132;43;01m}\u001b[39;49;00m\u001b[38;5;124;43m:item_id\u001b[39;49m\u001b[38;5;124;43m'\u001b[39;49m\u001b[43m]\u001b[49m\n\u001b[1;32m     13\u001b[0m \u001b[43m        \u001b[49m\u001b[43m)\u001b[49m\n\u001b[1;32m     14\u001b[0m     )\n\u001b[1;32m     16\u001b[0m \u001b[38;5;66;03m# Pushing the calculated items to the online store\u001b[39;00m\n\u001b[1;32m     17\u001b[0m user_items_df \u001b[38;5;241m=\u001b[39m user_embed_df[[\u001b[38;5;124m'\u001b[39m\u001b[38;5;124muser_id\u001b[39m\u001b[38;5;124m'\u001b[39m]]\u001b[38;5;241m.\u001b[39mcopy()\n",
      "File \u001b[0;32m~/Projects/rec-sys-feast-edb/.venv/lib/python3.10/site-packages/feast/feature_store.py:1915\u001b[0m, in \u001b[0;36mFeatureStore.retrieve_online_documents_v2\u001b[0;34m(self, query, top_k, features, distance_metric)\u001b[0m\n\u001b[1;32m   1910\u001b[0m     \u001b[38;5;28;01mraise\u001b[39;00m \u001b[38;5;167;01mValueError\u001b[39;00m(\n\u001b[1;32m   1911\u001b[0m         \u001b[38;5;124mf\u001b[39m\u001b[38;5;124m\"\u001b[39m\u001b[38;5;124mFeature view \u001b[39m\u001b[38;5;132;01m{\u001b[39;00mrequested_feature_view\u001b[38;5;132;01m}\u001b[39;00m\u001b[38;5;124m not found in the registry.\u001b[39m\u001b[38;5;124m\"\u001b[39m\n\u001b[1;32m   1912\u001b[0m     )\n\u001b[1;32m   1914\u001b[0m provider \u001b[38;5;241m=\u001b[39m \u001b[38;5;28mself\u001b[39m\u001b[38;5;241m.\u001b[39m_get_provider()\n\u001b[0;32m-> 1915\u001b[0m \u001b[38;5;28;01mreturn\u001b[39;00m \u001b[38;5;28;43mself\u001b[39;49m\u001b[38;5;241;43m.\u001b[39;49m\u001b[43m_retrieve_from_online_store_v2\u001b[49m\u001b[43m(\u001b[49m\n\u001b[1;32m   1916\u001b[0m \u001b[43m    \u001b[49m\u001b[43mprovider\u001b[49m\u001b[43m,\u001b[49m\n\u001b[1;32m   1917\u001b[0m \u001b[43m    \u001b[49m\u001b[43mrequested_feature_view\u001b[49m\u001b[43m,\u001b[49m\n\u001b[1;32m   1918\u001b[0m \u001b[43m    \u001b[49m\u001b[43mrequested_features\u001b[49m\u001b[43m,\u001b[49m\n\u001b[1;32m   1919\u001b[0m \u001b[43m    \u001b[49m\u001b[43mquery\u001b[49m\u001b[43m,\u001b[49m\n\u001b[1;32m   1920\u001b[0m \u001b[43m    \u001b[49m\u001b[43mtop_k\u001b[49m\u001b[43m,\u001b[49m\n\u001b[1;32m   1921\u001b[0m \u001b[43m    \u001b[49m\u001b[43mdistance_metric\u001b[49m\u001b[43m,\u001b[49m\n\u001b[1;32m   1922\u001b[0m \u001b[43m\u001b[49m\u001b[43m)\u001b[49m\n",
      "File \u001b[0;32m~/Projects/rec-sys-feast-edb/.venv/lib/python3.10/site-packages/feast/feature_store.py:1999\u001b[0m, in \u001b[0;36mFeatureStore._retrieve_from_online_store_v2\u001b[0;34m(self, provider, table, requested_features, query, top_k, distance_metric)\u001b[0m\n\u001b[1;32m   1996\u001b[0m \u001b[38;5;28;01mif\u001b[39;00m vector_field_metadata:\n\u001b[1;32m   1997\u001b[0m     distance_metric \u001b[38;5;241m=\u001b[39m vector_field_metadata\u001b[38;5;241m.\u001b[39mvector_search_metric\n\u001b[0;32m-> 1999\u001b[0m documents \u001b[38;5;241m=\u001b[39m \u001b[43mprovider\u001b[49m\u001b[38;5;241;43m.\u001b[39;49m\u001b[43mretrieve_online_documents_v2\u001b[49m\u001b[43m(\u001b[49m\n\u001b[1;32m   2000\u001b[0m \u001b[43m    \u001b[49m\u001b[43mconfig\u001b[49m\u001b[38;5;241;43m=\u001b[39;49m\u001b[38;5;28;43mself\u001b[39;49m\u001b[38;5;241;43m.\u001b[39;49m\u001b[43mconfig\u001b[49m\u001b[43m,\u001b[49m\n\u001b[1;32m   2001\u001b[0m \u001b[43m    \u001b[49m\u001b[43mtable\u001b[49m\u001b[38;5;241;43m=\u001b[39;49m\u001b[43mtable\u001b[49m\u001b[43m,\u001b[49m\n\u001b[1;32m   2002\u001b[0m \u001b[43m    \u001b[49m\u001b[43mrequested_features\u001b[49m\u001b[38;5;241;43m=\u001b[39;49m\u001b[43mrequested_features\u001b[49m\u001b[43m,\u001b[49m\n\u001b[1;32m   2003\u001b[0m \u001b[43m    \u001b[49m\u001b[43mquery\u001b[49m\u001b[38;5;241;43m=\u001b[39;49m\u001b[43mquery\u001b[49m\u001b[43m,\u001b[49m\n\u001b[1;32m   2004\u001b[0m \u001b[43m    \u001b[49m\u001b[43mtop_k\u001b[49m\u001b[38;5;241;43m=\u001b[39;49m\u001b[43mtop_k\u001b[49m\u001b[43m,\u001b[49m\n\u001b[1;32m   2005\u001b[0m \u001b[43m    \u001b[49m\u001b[43mdistance_metric\u001b[49m\u001b[38;5;241;43m=\u001b[39;49m\u001b[43mdistance_metric\u001b[49m\u001b[43m,\u001b[49m\n\u001b[1;32m   2006\u001b[0m \u001b[43m\u001b[49m\u001b[43m)\u001b[49m\n\u001b[1;32m   2008\u001b[0m entity_key_dict: Dict[\u001b[38;5;28mstr\u001b[39m, List[ValueProto]] \u001b[38;5;241m=\u001b[39m {}\n\u001b[1;32m   2009\u001b[0m datevals, entityvals, list_of_feature_dicts \u001b[38;5;241m=\u001b[39m [], [], []\n",
      "File \u001b[0;32m~/Projects/rec-sys-feast-edb/.venv/lib/python3.10/site-packages/feast/infra/passthrough_provider.py:327\u001b[0m, in \u001b[0;36mPassthroughProvider.retrieve_online_documents_v2\u001b[0;34m(self, config, table, requested_features, query, top_k, distance_metric)\u001b[0m\n\u001b[1;32m    325\u001b[0m result \u001b[38;5;241m=\u001b[39m []\n\u001b[1;32m    326\u001b[0m \u001b[38;5;28;01mif\u001b[39;00m \u001b[38;5;28mself\u001b[39m\u001b[38;5;241m.\u001b[39monline_store:\n\u001b[0;32m--> 327\u001b[0m     result \u001b[38;5;241m=\u001b[39m \u001b[38;5;28;43mself\u001b[39;49m\u001b[38;5;241;43m.\u001b[39;49m\u001b[43monline_store\u001b[49m\u001b[38;5;241;43m.\u001b[39;49m\u001b[43mretrieve_online_documents_v2\u001b[49m\u001b[43m(\u001b[49m\n\u001b[1;32m    328\u001b[0m \u001b[43m        \u001b[49m\u001b[43mconfig\u001b[49m\u001b[43m,\u001b[49m\n\u001b[1;32m    329\u001b[0m \u001b[43m        \u001b[49m\u001b[43mtable\u001b[49m\u001b[43m,\u001b[49m\n\u001b[1;32m    330\u001b[0m \u001b[43m        \u001b[49m\u001b[43mrequested_features\u001b[49m\u001b[43m,\u001b[49m\n\u001b[1;32m    331\u001b[0m \u001b[43m        \u001b[49m\u001b[43mquery\u001b[49m\u001b[43m,\u001b[49m\n\u001b[1;32m    332\u001b[0m \u001b[43m        \u001b[49m\u001b[43mtop_k\u001b[49m\u001b[43m,\u001b[49m\n\u001b[1;32m    333\u001b[0m \u001b[43m        \u001b[49m\u001b[43mdistance_metric\u001b[49m\u001b[43m,\u001b[49m\n\u001b[1;32m    334\u001b[0m \u001b[43m    \u001b[49m\u001b[43m)\u001b[49m\n\u001b[1;32m    335\u001b[0m \u001b[38;5;28;01mreturn\u001b[39;00m result\n",
      "File \u001b[0;32m~/Projects/rec-sys-feast-edb/.venv/lib/python3.10/site-packages/feast/infra/online_stores/sqlite.py:501\u001b[0m, in \u001b[0;36mSqliteOnlineStore.retrieve_online_documents_v2\u001b[0;34m(self, config, table, requested_features, query, top_k, distance_metric)\u001b[0m\n\u001b[1;32m    491\u001b[0m table_name \u001b[38;5;241m=\u001b[39m _table_id(config\u001b[38;5;241m.\u001b[39mproject, table)\n\u001b[1;32m    493\u001b[0m cur\u001b[38;5;241m.\u001b[39mexecute(\n\u001b[1;32m    494\u001b[0m     \u001b[38;5;124mf\u001b[39m\u001b[38;5;124m\"\"\"\u001b[39m\n\u001b[1;32m    495\u001b[0m \u001b[38;5;124m    CREATE VIRTUAL TABLE IF NOT EXISTS vec_table using vec0(\u001b[39m\n\u001b[0;32m   (...)\u001b[0m\n\u001b[1;32m    498\u001b[0m \u001b[38;5;124m    \u001b[39m\u001b[38;5;124m\"\"\"\u001b[39m\n\u001b[1;32m    499\u001b[0m )\n\u001b[0;32m--> 501\u001b[0m \u001b[43mcur\u001b[49m\u001b[38;5;241;43m.\u001b[39;49m\u001b[43mexecute\u001b[49m\u001b[43m(\u001b[49m\n\u001b[1;32m    502\u001b[0m \u001b[43m    \u001b[49m\u001b[38;5;124;43mf\u001b[39;49m\u001b[38;5;124;43m\"\"\"\u001b[39;49m\n\u001b[1;32m    503\u001b[0m \u001b[38;5;124;43m    INSERT INTO vec_table(rowid, vector_value)\u001b[39;49m\n\u001b[1;32m    504\u001b[0m \u001b[38;5;124;43m    select rowid, vector_value from \u001b[39;49m\u001b[38;5;132;43;01m{\u001b[39;49;00m\u001b[43mtable_name\u001b[49m\u001b[38;5;132;43;01m}\u001b[39;49;00m\n\u001b[1;32m    505\u001b[0m \u001b[38;5;124;43m    \u001b[39;49m\u001b[38;5;124;43m\"\"\"\u001b[39;49m\n\u001b[1;32m    506\u001b[0m \u001b[43m\u001b[49m\u001b[43m)\u001b[49m\n\u001b[1;32m    508\u001b[0m cur\u001b[38;5;241m.\u001b[39mexecute(\n\u001b[1;32m    509\u001b[0m     \u001b[38;5;124mf\u001b[39m\u001b[38;5;124m\"\"\"\u001b[39m\n\u001b[1;32m    510\u001b[0m \u001b[38;5;124m    select\u001b[39m\n\u001b[0;32m   (...)\u001b[0m\n\u001b[1;32m    535\u001b[0m     ),\n\u001b[1;32m    536\u001b[0m )\n\u001b[1;32m    538\u001b[0m rows \u001b[38;5;241m=\u001b[39m cur\u001b[38;5;241m.\u001b[39mfetchall()\n",
      "\u001b[0;31mOperationalError\u001b[0m: UNIQUE constraint failed on vec_table primary key"
     ]
    }
   ],
   "source": [
    "# Calculate user recommendations for each user\n",
    "item_embedding_view = 'item_embedding'\n",
    "user_embedding_view = 'user_embedding'\n",
    "\n",
    "item_recommendation = []\n",
    "for user_embed in user_embed_df['embedding']:\n",
    "    item_recommendation.append(\n",
    "        store.retrieve_online_documents_v2(\n",
    "            query=user_embed,\n",
    "            top_k=k,\n",
    "            features=[f'{item_embedding_view}:embedding',\n",
    "                      f'{item_embedding_view}:item_id']\n",
    "        )\n",
    "    )\n",
    "\n",
    "# Pushing the calculated items to the online store\n",
    "user_items_df = user_embed_df[['user_id']].copy()\n",
    "user_items_df['event_timestamp'] = datetime.now()\n",
    "user_items_df['top_k_item_ids'] = item_recommendation\n",
    "\n",
    "store.push('user_items_push_source', user_items_df, to=PushMode.OFFLINE)"
   ]
  },
  {
   "cell_type": "code",
   "execution_count": 118,
   "metadata": {},
   "outputs": [
    {
     "data": {
      "text/html": [
       "<div>\n",
       "<style scoped>\n",
       "    .dataframe tbody tr th:only-of-type {\n",
       "        vertical-align: middle;\n",
       "    }\n",
       "\n",
       "    .dataframe tbody tr th {\n",
       "        vertical-align: top;\n",
       "    }\n",
       "\n",
       "    .dataframe thead th {\n",
       "        text-align: right;\n",
       "    }\n",
       "</style>\n",
       "<table border=\"1\" class=\"dataframe\">\n",
       "  <thead>\n",
       "    <tr style=\"text-align: right;\">\n",
       "      <th></th>\n",
       "      <th>embedding</th>\n",
       "      <th>item_id</th>\n",
       "      <th>distance</th>\n",
       "    </tr>\n",
       "  </thead>\n",
       "  <tbody>\n",
       "    <tr>\n",
       "      <th>0</th>\n",
       "      <td>[0.7750775218009949, 0.977125883102417, -0.518...</td>\n",
       "      <td>None</td>\n",
       "      <td>8.603783</td>\n",
       "    </tr>\n",
       "    <tr>\n",
       "      <th>1</th>\n",
       "      <td>[0.6209911704063416, 0.6175487637519836, -0.39...</td>\n",
       "      <td>None</td>\n",
       "      <td>8.549447</td>\n",
       "    </tr>\n",
       "    <tr>\n",
       "      <th>2</th>\n",
       "      <td>[1.3543285131454468, 0.7130129933357239, 0.147...</td>\n",
       "      <td>None</td>\n",
       "      <td>8.451757</td>\n",
       "    </tr>\n",
       "    <tr>\n",
       "      <th>3</th>\n",
       "      <td>[-1.288988471031189, 2.011756181716919, -0.736...</td>\n",
       "      <td>None</td>\n",
       "      <td>8.241433</td>\n",
       "    </tr>\n",
       "    <tr>\n",
       "      <th>4</th>\n",
       "      <td>[1.1395989656448364, 0.37299424409866333, 0.46...</td>\n",
       "      <td>None</td>\n",
       "      <td>8.501476</td>\n",
       "    </tr>\n",
       "    <tr>\n",
       "      <th>5</th>\n",
       "      <td>[-0.40435928106307983, 0.7274473309516907, 0.9...</td>\n",
       "      <td>None</td>\n",
       "      <td>8.537401</td>\n",
       "    </tr>\n",
       "    <tr>\n",
       "      <th>6</th>\n",
       "      <td>[-0.09480001032352448, 1.4703071117401123, 0.0...</td>\n",
       "      <td>None</td>\n",
       "      <td>8.392163</td>\n",
       "    </tr>\n",
       "    <tr>\n",
       "      <th>7</th>\n",
       "      <td>[0.005286457948386669, -0.5898598432540894, 1....</td>\n",
       "      <td>None</td>\n",
       "      <td>8.721828</td>\n",
       "    </tr>\n",
       "    <tr>\n",
       "      <th>8</th>\n",
       "      <td>[0.1009630635380745, 1.1671462059020996, 1.039...</td>\n",
       "      <td>None</td>\n",
       "      <td>8.557496</td>\n",
       "    </tr>\n",
       "    <tr>\n",
       "      <th>9</th>\n",
       "      <td>[-0.17637330293655396, 0.005112900398671627, -...</td>\n",
       "      <td>None</td>\n",
       "      <td>8.593702</td>\n",
       "    </tr>\n",
       "  </tbody>\n",
       "</table>\n",
       "</div>"
      ],
      "text/plain": [
       "                                           embedding item_id  distance\n",
       "0  [0.7750775218009949, 0.977125883102417, -0.518...    None  8.603783\n",
       "1  [0.6209911704063416, 0.6175487637519836, -0.39...    None  8.549447\n",
       "2  [1.3543285131454468, 0.7130129933357239, 0.147...    None  8.451757\n",
       "3  [-1.288988471031189, 2.011756181716919, -0.736...    None  8.241433\n",
       "4  [1.1395989656448364, 0.37299424409866333, 0.46...    None  8.501476\n",
       "5  [-0.40435928106307983, 0.7274473309516907, 0.9...    None  8.537401\n",
       "6  [-0.09480001032352448, 1.4703071117401123, 0.0...    None  8.392163\n",
       "7  [0.005286457948386669, -0.5898598432540894, 1....    None  8.721828\n",
       "8  [0.1009630635380745, 1.1671462059020996, 1.039...    None  8.557496\n",
       "9  [-0.17637330293655396, 0.005112900398671627, -...    None  8.593702"
      ]
     },
     "execution_count": 118,
     "metadata": {},
     "output_type": "execute_result"
    }
   ],
   "source": [
    "item_recommendation[0].to_df()"
   ]
  },
  {
   "cell_type": "markdown",
   "metadata": {},
   "source": [
    "# Inferencing"
   ]
  },
  {
   "cell_type": "markdown",
   "metadata": {},
   "source": [
    "## Existing User Case"
   ]
  },
  {
   "cell_type": "markdown",
   "metadata": {},
   "source": [
    "## New User Case\n"
   ]
  }
 ],
 "metadata": {
  "kernelspec": {
   "display_name": ".venv",
   "language": "python",
   "name": "python3"
  },
  "language_info": {
   "codemirror_mode": {
    "name": "ipython",
    "version": 3
   },
   "file_extension": ".py",
   "mimetype": "text/x-python",
   "name": "python",
   "nbconvert_exporter": "python",
   "pygments_lexer": "ipython3",
   "version": "3.10.14"
  }
 },
 "nbformat": 4,
 "nbformat_minor": 2
}
