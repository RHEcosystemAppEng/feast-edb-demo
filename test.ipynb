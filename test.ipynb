{
 "cells": [
  {
   "cell_type": "code",
   "execution_count": 3,
   "id": "7256ebae",
   "metadata": {},
   "outputs": [],
   "source": [
    "import pandas as pd\n",
    "\n",
    "items = pd.read_parquet('./feature_repo/data/recommendation_items.parquet')\n",
    "users = pd.read_parquet('./feature_repo/data/recommendation_users.parquet')\n",
    "inter_pos = pd.read_parquet('./feature_repo/data/recommendation_interactions.parquet')\n",
    "inter_neg = pd.read_parquet('./feature_repo/data/recommendation_neg_interactions.parquet')"
   ]
  },
  {
   "cell_type": "code",
   "execution_count": 4,
   "id": "48be1835",
   "metadata": {},
   "outputs": [
    {
     "name": "stderr",
     "output_type": "stream",
     "text": [
      "/home/ikatav/Projects/rec-sys-feast-edb/models/data_util.py:135: FutureWarning: Downcasting object dtype arrays on .fillna, .ffill, .bfill is deprecated and will change in a future version. Call result.infer_objects(copy=False) instead. To opt-in to the future behavior, set `pd.set_option('future.no_silent_downcasting', True)`\n",
      "  inter_df.fillna(-1.0, inplace=True)\n"
     ]
    },
    {
     "name": "stdout",
     "output_type": "stream",
     "text": [
      "Epoch 1/10, Average Loss: 23.5581\n",
      "Epoch 2/10, Average Loss: 18.6744\n",
      "Epoch 3/10, Average Loss: 18.6155\n",
      "Epoch 4/10, Average Loss: 18.5931\n",
      "Epoch 5/10, Average Loss: 18.6257\n",
      "Epoch 6/10, Average Loss: 18.5752\n",
      "Epoch 7/10, Average Loss: 18.6068\n",
      "Epoch 8/10, Average Loss: 18.5375\n",
      "Epoch 9/10, Average Loss: 18.5291\n",
      "Epoch 10/10, Average Loss: 18.5518\n"
     ]
    }
   ],
   "source": [
    "from models.user_tower import UserTower\n",
    "from models.item_tower import ItemTower\n",
    "from models.train_two_tower import train_two_tower\n",
    "dim = 256\n",
    "\n",
    "item_encoder = ItemTower(dim)\n",
    "user_encoder = UserTower(dim)\n",
    "train_two_tower(item_encoder, user_encoder, items, users, inter_pos, inter_neg, n_epochs=10)"
   ]
  },
  {
   "cell_type": "code",
   "execution_count": 10,
   "id": "72f5cbfd",
   "metadata": {},
   "outputs": [
    {
     "data": {
      "text/plain": [
       "tensor([-0.4582,  0.4464, -0.4244, -0.3672,  0.2081,  1.1683, -1.8775, -1.1103,\n",
       "        -0.0674, -0.2874, -0.1199,  0.4839,  0.4532,  0.2384, -0.4397, -0.4850,\n",
       "        -1.8894, -0.9573,  0.9265,  0.3346,  0.4438, -1.0821,  0.6544,  1.4958,\n",
       "         0.1025, -0.2792, -1.5350,  1.1731,  0.2959,  0.1890,  0.7237])"
      ]
     },
     "execution_count": 10,
     "metadata": {},
     "output_type": "execute_result"
    }
   ],
   "source": [
    "import numpy as np \n",
    "ser1 = pd.Series(np.random.randn(19))\n",
    "ser2 = pd.Series(np.random.randn(12))\n",
    "\n",
    "import torch\n",
    "torch.Tensor(pd.concat([ser1, ser2], axis=0).values)\n"
   ]
  },
  {
   "cell_type": "code",
   "execution_count": null,
   "id": "a290149b",
   "metadata": {},
   "outputs": [
    {
     "name": "stdout",
     "output_type": "stream",
     "text": [
      "   A  B  C\n",
      "0  1  4  5\n",
      "1  2  5  7\n",
      "2  3  6  9\n"
     ]
    }
   ],
   "source": [
    "import pandas as pd\n",
    "\n",
    "# Sample DataFrame\n",
    "data = {'A': [1, 2, 3], 'B': [4, 5, 6]}\n",
    "df = pd.DataFrame(data)\n",
    "\n",
    "# Define a function that uses two columns\n",
    "def add_columns(row):\n",
    "    return row['A'] + row['B']\n",
    "\n",
    "# Apply the function to create a new column 'C'\n",
    "df['C'] = df.apply(add_columns, axis=1)\n",
    "\n",
    "print(df)"
   ]
  },
  {
   "cell_type": "code",
   "execution_count": 5,
   "id": "956c50f8",
   "metadata": {},
   "outputs": [],
   "source": [
    "merged_df = (\n",
    "        inter_pos\n",
    "        .merge(items, on='item_id')\n",
    "        .merge(users, on='user_id')\n",
    "    )"
   ]
  },
  {
   "cell_type": "code",
   "execution_count": 4,
   "id": "a30655dc",
   "metadata": {},
   "outputs": [
    {
     "data": {
      "text/plain": [
       "11.274154388232255"
      ]
     },
     "execution_count": 4,
     "metadata": {},
     "output_type": "execute_result"
    }
   ],
   "source": [
    "import numpy as np\n",
    "k = 10_000\n",
    "total_sum = 0\n",
    "for _ in range(k):\n",
    "\n",
    "    vec1 = np.random.randn(64)\n",
    "    vec2 = np.random.randn(64)\n",
    "    total_sum += np.linalg.norm(vec1 - vec2)\n",
    "total_sum / k"
   ]
  },
  {
   "cell_type": "code",
   "execution_count": null,
   "id": "0782f432",
   "metadata": {},
   "outputs": [
    {
     "data": {
      "text/plain": [
       "torch.Size([1000, 1])"
      ]
     },
     "execution_count": 29,
     "metadata": {},
     "output_type": "execute_result"
    }
   ],
   "source": [
    "from models.data_util import data_preproccess\n",
    "\n",
    "data_preproccess(users)['age'].shape"
   ]
  },
  {
   "cell_type": "code",
   "execution_count": 33,
   "id": "cfb2e13c",
   "metadata": {},
   "outputs": [
    {
     "data": {
      "text/plain": [
       "tensor([11.4344, 10.8330, 10.4950, 11.6234, 12.1679, 11.0393, 13.2349, 11.6698,\n",
       "        11.5191, 10.6111, 11.1823, 12.3118, 11.0849, 10.2014, 10.4203, 12.5080,\n",
       "        11.7885, 11.7910, 11.9697, 11.4450, 12.8274, 13.4097, 10.0472, 10.3564,\n",
       "         9.9747, 11.4867, 14.8364, 11.6242,  9.8756, 10.8363,  9.8678, 11.6613,\n",
       "        10.2409, 13.4157, 13.1314,  9.8599, 11.0918, 11.1050, 11.5635,  9.9014])"
      ]
     },
     "execution_count": 33,
     "metadata": {},
     "output_type": "execute_result"
    }
   ],
   "source": [
    "import torch\n",
    "bs = 40\n",
    "dim = 64\n",
    "a = torch.randn((bs, dim))\n",
    "b = torch.randn((bs, dim))\n",
    "\n",
    "torch.norm(a - b, dim=-1)"
   ]
  },
  {
   "cell_type": "code",
   "execution_count": 11,
   "id": "27806d6e",
   "metadata": {},
   "outputs": [
    {
     "data": {
      "text/plain": [
       "1"
      ]
     },
     "execution_count": 11,
     "metadata": {},
     "output_type": "execute_result"
    }
   ],
   "source": [
    "np.random.randint(1, 4)\n"
   ]
  },
  {
   "cell_type": "code",
   "execution_count": 13,
   "id": "42dbf7cf",
   "metadata": {},
   "outputs": [
    {
     "data": {
      "text/html": [
       "<div>\n",
       "<style scoped>\n",
       "    .dataframe tbody tr th:only-of-type {\n",
       "        vertical-align: middle;\n",
       "    }\n",
       "\n",
       "    .dataframe tbody tr th {\n",
       "        vertical-align: top;\n",
       "    }\n",
       "\n",
       "    .dataframe thead th {\n",
       "        text-align: right;\n",
       "    }\n",
       "</style>\n",
       "<table border=\"1\" class=\"dataframe\">\n",
       "  <thead>\n",
       "    <tr style=\"text-align: right;\">\n",
       "      <th></th>\n",
       "      <th>interaction_id</th>\n",
       "      <th>user_id</th>\n",
       "      <th>item_id</th>\n",
       "      <th>timestamp</th>\n",
       "      <th>interaction_type</th>\n",
       "      <th>rating</th>\n",
       "      <th>quantity</th>\n",
       "    </tr>\n",
       "  </thead>\n",
       "  <tbody>\n",
       "    <tr>\n",
       "      <th>0</th>\n",
       "      <td>1</td>\n",
       "      <td>1</td>\n",
       "      <td>3270</td>\n",
       "      <td>2024-03-18 00:31:00</td>\n",
       "      <td>rate</td>\n",
       "      <td>1.0</td>\n",
       "      <td>None</td>\n",
       "    </tr>\n",
       "    <tr>\n",
       "      <th>1</th>\n",
       "      <td>2</td>\n",
       "      <td>1</td>\n",
       "      <td>1854</td>\n",
       "      <td>2024-11-19 12:26:00</td>\n",
       "      <td>view</td>\n",
       "      <td>NaN</td>\n",
       "      <td>None</td>\n",
       "    </tr>\n",
       "    <tr>\n",
       "      <th>2</th>\n",
       "      <td>3</td>\n",
       "      <td>1</td>\n",
       "      <td>4813</td>\n",
       "      <td>2024-11-08 19:11:00</td>\n",
       "      <td>view</td>\n",
       "      <td>NaN</td>\n",
       "      <td>None</td>\n",
       "    </tr>\n",
       "    <tr>\n",
       "      <th>3</th>\n",
       "      <td>4</td>\n",
       "      <td>1</td>\n",
       "      <td>778</td>\n",
       "      <td>2024-12-04 07:18:00</td>\n",
       "      <td>rate</td>\n",
       "      <td>2.0</td>\n",
       "      <td>None</td>\n",
       "    </tr>\n",
       "    <tr>\n",
       "      <th>4</th>\n",
       "      <td>5</td>\n",
       "      <td>1</td>\n",
       "      <td>1835</td>\n",
       "      <td>2024-05-21 05:35:00</td>\n",
       "      <td>view</td>\n",
       "      <td>NaN</td>\n",
       "      <td>None</td>\n",
       "    </tr>\n",
       "    <tr>\n",
       "      <th>...</th>\n",
       "      <td>...</td>\n",
       "      <td>...</td>\n",
       "      <td>...</td>\n",
       "      <td>...</td>\n",
       "      <td>...</td>\n",
       "      <td>...</td>\n",
       "      <td>...</td>\n",
       "    </tr>\n",
       "    <tr>\n",
       "      <th>19995</th>\n",
       "      <td>19996</td>\n",
       "      <td>1000</td>\n",
       "      <td>715</td>\n",
       "      <td>2024-09-10 14:37:00</td>\n",
       "      <td>view</td>\n",
       "      <td>NaN</td>\n",
       "      <td>None</td>\n",
       "    </tr>\n",
       "    <tr>\n",
       "      <th>19996</th>\n",
       "      <td>19997</td>\n",
       "      <td>1000</td>\n",
       "      <td>2166</td>\n",
       "      <td>2024-09-02 09:07:00</td>\n",
       "      <td>view</td>\n",
       "      <td>NaN</td>\n",
       "      <td>None</td>\n",
       "    </tr>\n",
       "    <tr>\n",
       "      <th>19997</th>\n",
       "      <td>19998</td>\n",
       "      <td>1000</td>\n",
       "      <td>4941</td>\n",
       "      <td>2024-03-14 13:59:00</td>\n",
       "      <td>view</td>\n",
       "      <td>NaN</td>\n",
       "      <td>None</td>\n",
       "    </tr>\n",
       "    <tr>\n",
       "      <th>19998</th>\n",
       "      <td>19999</td>\n",
       "      <td>1000</td>\n",
       "      <td>3763</td>\n",
       "      <td>2024-05-26 23:25:00</td>\n",
       "      <td>view</td>\n",
       "      <td>NaN</td>\n",
       "      <td>None</td>\n",
       "    </tr>\n",
       "    <tr>\n",
       "      <th>19999</th>\n",
       "      <td>20000</td>\n",
       "      <td>1000</td>\n",
       "      <td>1061</td>\n",
       "      <td>2024-07-08 07:43:00</td>\n",
       "      <td>rate</td>\n",
       "      <td>2.0</td>\n",
       "      <td>None</td>\n",
       "    </tr>\n",
       "  </tbody>\n",
       "</table>\n",
       "<p>20000 rows × 7 columns</p>\n",
       "</div>"
      ],
      "text/plain": [
       "       interaction_id  user_id  item_id           timestamp interaction_type  \\\n",
       "0                   1        1     3270 2024-03-18 00:31:00             rate   \n",
       "1                   2        1     1854 2024-11-19 12:26:00             view   \n",
       "2                   3        1     4813 2024-11-08 19:11:00             view   \n",
       "3                   4        1      778 2024-12-04 07:18:00             rate   \n",
       "4                   5        1     1835 2024-05-21 05:35:00             view   \n",
       "...               ...      ...      ...                 ...              ...   \n",
       "19995           19996     1000      715 2024-09-10 14:37:00             view   \n",
       "19996           19997     1000     2166 2024-09-02 09:07:00             view   \n",
       "19997           19998     1000     4941 2024-03-14 13:59:00             view   \n",
       "19998           19999     1000     3763 2024-05-26 23:25:00             view   \n",
       "19999           20000     1000     1061 2024-07-08 07:43:00             rate   \n",
       "\n",
       "       rating quantity  \n",
       "0         1.0     None  \n",
       "1         NaN     None  \n",
       "2         NaN     None  \n",
       "3         2.0     None  \n",
       "4         NaN     None  \n",
       "...       ...      ...  \n",
       "19995     NaN     None  \n",
       "19996     NaN     None  \n",
       "19997     NaN     None  \n",
       "19998     NaN     None  \n",
       "19999     2.0     None  \n",
       "\n",
       "[20000 rows x 7 columns]"
      ]
     },
     "execution_count": 13,
     "metadata": {},
     "output_type": "execute_result"
    }
   ],
   "source": [
    "inter_neg"
   ]
  },
  {
   "cell_type": "code",
   "execution_count": 4,
   "id": "20a4e8f4",
   "metadata": {},
   "outputs": [
    {
     "data": {
      "text/plain": [
       "0      1\n",
       "1      1\n",
       "2      1\n",
       "3      1\n",
       "4      1\n",
       "      ..\n",
       "995    1\n",
       "996    1\n",
       "997    1\n",
       "998    1\n",
       "999    1\n",
       "Name: rating, Length: 1000, dtype: int64"
      ]
     },
     "execution_count": 4,
     "metadata": {},
     "output_type": "execute_result"
    }
   ],
   "source": [
    "from dataset_gen import generate_interactions\n",
    "import numpy as np\n",
    "generate_interactions(users, items, 1000)['rating'].fillna('wow').map({'wow': 1, 4.0: 2, 5.0: 4, 3.0: 4})"
   ]
  },
  {
   "cell_type": "code",
   "execution_count": null,
   "id": "e3bc2c3a",
   "metadata": {},
   "outputs": [
    {
     "data": {
      "text/html": [
       "<div>\n",
       "<style scoped>\n",
       "    .dataframe tbody tr th:only-of-type {\n",
       "        vertical-align: middle;\n",
       "    }\n",
       "\n",
       "    .dataframe tbody tr th {\n",
       "        vertical-align: top;\n",
       "    }\n",
       "\n",
       "    .dataframe thead th {\n",
       "        text-align: right;\n",
       "    }\n",
       "</style>\n",
       "<table border=\"1\" class=\"dataframe\">\n",
       "  <thead>\n",
       "    <tr style=\"text-align: right;\">\n",
       "      <th></th>\n",
       "      <th>wow</th>\n",
       "    </tr>\n",
       "  </thead>\n",
       "  <tbody>\n",
       "    <tr>\n",
       "      <th>0</th>\n",
       "      <td>3.0</td>\n",
       "    </tr>\n",
       "    <tr>\n",
       "      <th>1</th>\n",
       "      <td>NaN</td>\n",
       "    </tr>\n",
       "    <tr>\n",
       "      <th>2</th>\n",
       "      <td>2.0</td>\n",
       "    </tr>\n",
       "    <tr>\n",
       "      <th>3</th>\n",
       "      <td>NaN</td>\n",
       "    </tr>\n",
       "    <tr>\n",
       "      <th>4</th>\n",
       "      <td>2.0</td>\n",
       "    </tr>\n",
       "    <tr>\n",
       "      <th>...</th>\n",
       "      <td>...</td>\n",
       "    </tr>\n",
       "    <tr>\n",
       "      <th>1995</th>\n",
       "      <td>NaN</td>\n",
       "    </tr>\n",
       "    <tr>\n",
       "      <th>1996</th>\n",
       "      <td>3.0</td>\n",
       "    </tr>\n",
       "    <tr>\n",
       "      <th>1997</th>\n",
       "      <td>NaN</td>\n",
       "    </tr>\n",
       "    <tr>\n",
       "      <th>1998</th>\n",
       "      <td>1.0</td>\n",
       "    </tr>\n",
       "    <tr>\n",
       "      <th>1999</th>\n",
       "      <td>NaN</td>\n",
       "    </tr>\n",
       "  </tbody>\n",
       "</table>\n",
       "<p>2000 rows × 1 columns</p>\n",
       "</div>"
      ],
      "text/plain": [
       "      wow\n",
       "0     3.0\n",
       "1     NaN\n",
       "2     2.0\n",
       "3     NaN\n",
       "4     2.0\n",
       "...   ...\n",
       "1995  NaN\n",
       "1996  3.0\n",
       "1997  NaN\n",
       "1998  1.0\n",
       "1999  NaN\n",
       "\n",
       "[2000 rows x 1 columns]"
      ]
     },
     "execution_count": 31,
     "metadata": {},
     "output_type": "execute_result"
    }
   ],
   "source": [
    "lst = []\n",
    "for _ in range(1000):\n",
    "    lst.append({'wow':  np.random.randint(1, 4)})\n",
    "    lst.append({'wow':  np.nan})\n",
    "df = pd.DataFrame(lst)\n",
    "df"
   ]
  },
  {
   "cell_type": "code",
   "execution_count": 32,
   "id": "d80a4980",
   "metadata": {},
   "outputs": [
    {
     "name": "stdout",
     "output_type": "stream",
     "text": [
      "<class 'pandas.core.frame.DataFrame'>\n",
      "RangeIndex: 2000 entries, 0 to 1999\n",
      "Data columns (total 1 columns):\n",
      " #   Column  Non-Null Count  Dtype  \n",
      "---  ------  --------------  -----  \n",
      " 0   wow     1000 non-null   float64\n",
      "dtypes: float64(1)\n",
      "memory usage: 15.8 KB\n"
     ]
    }
   ],
   "source": [
    "df.info()"
   ]
  },
  {
   "cell_type": "code",
   "execution_count": 42,
   "id": "a551d628",
   "metadata": {},
   "outputs": [
    {
     "data": {
      "text/plain": [
       "dtype('int64')"
      ]
     },
     "execution_count": 42,
     "metadata": {},
     "output_type": "execute_result"
    }
   ],
   "source": [
    "ser = pd.Series(np.random.randint(100))\n",
    "ser.dtype"
   ]
  },
  {
   "cell_type": "code",
   "execution_count": 43,
   "id": "5007d7c5",
   "metadata": {},
   "outputs": [
    {
     "data": {
      "text/plain": [
       "dtype('float64')"
      ]
     },
     "execution_count": 43,
     "metadata": {},
     "output_type": "execute_result"
    }
   ],
   "source": [
    "ser = pd.Series(np.random.randint(100))\n",
    "ser.iloc[0] = None\n",
    "ser.dtype"
   ]
  },
  {
   "cell_type": "code",
   "execution_count": 41,
   "id": "57ce98a0",
   "metadata": {},
   "outputs": [
    {
     "data": {
      "text/plain": [
       "0   NaN\n",
       "dtype: float64"
      ]
     },
     "execution_count": 41,
     "metadata": {},
     "output_type": "execute_result"
    }
   ],
   "source": [
    "ser"
   ]
  },
  {
   "cell_type": "code",
   "execution_count": null,
   "id": "db5144a1",
   "metadata": {},
   "outputs": [],
   "source": []
  }
 ],
 "metadata": {
  "kernelspec": {
   "display_name": "we",
   "language": "python",
   "name": "python3"
  },
  "language_info": {
   "codemirror_mode": {
    "name": "ipython",
    "version": 3
   },
   "file_extension": ".py",
   "mimetype": "text/x-python",
   "name": "python",
   "nbconvert_exporter": "python",
   "pygments_lexer": "ipython3",
   "version": "3.11.11"
  }
 },
 "nbformat": 4,
 "nbformat_minor": 5
}
